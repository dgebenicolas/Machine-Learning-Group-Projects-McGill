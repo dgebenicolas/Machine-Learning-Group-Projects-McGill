{
  "nbformat": 4,
  "nbformat_minor": 0,
  "metadata": {
    "colab": {
      "provenance": [],
      "collapsed_sections": [],
      "toc_visible": true
    },
    "kernelspec": {
      "name": "python3",
      "display_name": "Python 3"
    },
    "language_info": {
      "name": "python"
    }
  },
  "cells": [
    {
      "cell_type": "markdown",
      "source": [
        "# Task 1.1"
      ],
      "metadata": {
        "id": "cj8PPiY8BINX"
      }
    },
    {
      "cell_type": "markdown",
      "source": [
        "##Task 1.1"
      ],
      "metadata": {
        "id": "GtCYc_M8BMaY"
      }
    },
    {
      "cell_type": "markdown",
      "source": [
        "Get Data"
      ],
      "metadata": {
        "id": "KrWxIr_OBUzL"
      }
    },
    {
      "cell_type": "code",
      "source": [
        "!wget http://ai.stanford.edu/~amaas/data/sentiment/aclImdb_v1.tar.gz "
      ],
      "metadata": {
        "id": "x8vRymmrBV9T",
        "colab": {
          "base_uri": "https://localhost:8080/"
        },
        "outputId": "cd59af81-6c35-4c94-b400-0235eef8e09f"
      },
      "execution_count": 1,
      "outputs": [
        {
          "output_type": "stream",
          "name": "stdout",
          "text": [
            "--2022-11-08 01:13:18--  http://ai.stanford.edu/~amaas/data/sentiment/aclImdb_v1.tar.gz\n",
            "Resolving ai.stanford.edu (ai.stanford.edu)... 171.64.68.10\n",
            "Connecting to ai.stanford.edu (ai.stanford.edu)|171.64.68.10|:80... connected.\n",
            "HTTP request sent, awaiting response... 200 OK\n",
            "Length: 84125825 (80M) [application/x-gzip]\n",
            "Saving to: ‘aclImdb_v1.tar.gz’\n",
            "\n",
            "aclImdb_v1.tar.gz   100%[===================>]  80.23M  22.9MB/s    in 5.7s    \n",
            "\n",
            "2022-11-08 01:13:23 (14.2 MB/s) - ‘aclImdb_v1.tar.gz’ saved [84125825/84125825]\n",
            "\n"
          ]
        }
      ]
    },
    {
      "cell_type": "code",
      "source": [
        "!tar --gunzip --extract --file=aclImdb_v1.tar.gz "
      ],
      "metadata": {
        "id": "oa4vwnHjNLYv"
      },
      "execution_count": 2,
      "outputs": []
    },
    {
      "cell_type": "code",
      "source": [
        "import pandas as pd\n",
        "\n",
        "words_table = pd.read_csv('aclImdb/imdb.vocab', header=None)\n",
        "words_table.head()"
      ],
      "metadata": {
        "colab": {
          "base_uri": "https://localhost:8080/",
          "height": 204
        },
        "id": "xNYL3SEoOHkK",
        "outputId": "2a06880a-060c-4606-8228-2b9db818f155"
      },
      "execution_count": 3,
      "outputs": [
        {
          "output_type": "execute_result",
          "data": {
            "text/plain": [
              "     0\n",
              "0  the\n",
              "1  and\n",
              "2    a\n",
              "3   of\n",
              "4   to"
            ],
            "text/html": [
              "\n",
              "  <div id=\"df-aa753026-497a-4ee6-b027-25a345851076\">\n",
              "    <div class=\"colab-df-container\">\n",
              "      <div>\n",
              "<style scoped>\n",
              "    .dataframe tbody tr th:only-of-type {\n",
              "        vertical-align: middle;\n",
              "    }\n",
              "\n",
              "    .dataframe tbody tr th {\n",
              "        vertical-align: top;\n",
              "    }\n",
              "\n",
              "    .dataframe thead th {\n",
              "        text-align: right;\n",
              "    }\n",
              "</style>\n",
              "<table border=\"1\" class=\"dataframe\">\n",
              "  <thead>\n",
              "    <tr style=\"text-align: right;\">\n",
              "      <th></th>\n",
              "      <th>0</th>\n",
              "    </tr>\n",
              "  </thead>\n",
              "  <tbody>\n",
              "    <tr>\n",
              "      <th>0</th>\n",
              "      <td>the</td>\n",
              "    </tr>\n",
              "    <tr>\n",
              "      <th>1</th>\n",
              "      <td>and</td>\n",
              "    </tr>\n",
              "    <tr>\n",
              "      <th>2</th>\n",
              "      <td>a</td>\n",
              "    </tr>\n",
              "    <tr>\n",
              "      <th>3</th>\n",
              "      <td>of</td>\n",
              "    </tr>\n",
              "    <tr>\n",
              "      <th>4</th>\n",
              "      <td>to</td>\n",
              "    </tr>\n",
              "  </tbody>\n",
              "</table>\n",
              "</div>\n",
              "      <button class=\"colab-df-convert\" onclick=\"convertToInteractive('df-aa753026-497a-4ee6-b027-25a345851076')\"\n",
              "              title=\"Convert this dataframe to an interactive table.\"\n",
              "              style=\"display:none;\">\n",
              "        \n",
              "  <svg xmlns=\"http://www.w3.org/2000/svg\" height=\"24px\"viewBox=\"0 0 24 24\"\n",
              "       width=\"24px\">\n",
              "    <path d=\"M0 0h24v24H0V0z\" fill=\"none\"/>\n",
              "    <path d=\"M18.56 5.44l.94 2.06.94-2.06 2.06-.94-2.06-.94-.94-2.06-.94 2.06-2.06.94zm-11 1L8.5 8.5l.94-2.06 2.06-.94-2.06-.94L8.5 2.5l-.94 2.06-2.06.94zm10 10l.94 2.06.94-2.06 2.06-.94-2.06-.94-.94-2.06-.94 2.06-2.06.94z\"/><path d=\"M17.41 7.96l-1.37-1.37c-.4-.4-.92-.59-1.43-.59-.52 0-1.04.2-1.43.59L10.3 9.45l-7.72 7.72c-.78.78-.78 2.05 0 2.83L4 21.41c.39.39.9.59 1.41.59.51 0 1.02-.2 1.41-.59l7.78-7.78 2.81-2.81c.8-.78.8-2.07 0-2.86zM5.41 20L4 18.59l7.72-7.72 1.47 1.35L5.41 20z\"/>\n",
              "  </svg>\n",
              "      </button>\n",
              "      \n",
              "  <style>\n",
              "    .colab-df-container {\n",
              "      display:flex;\n",
              "      flex-wrap:wrap;\n",
              "      gap: 12px;\n",
              "    }\n",
              "\n",
              "    .colab-df-convert {\n",
              "      background-color: #E8F0FE;\n",
              "      border: none;\n",
              "      border-radius: 50%;\n",
              "      cursor: pointer;\n",
              "      display: none;\n",
              "      fill: #1967D2;\n",
              "      height: 32px;\n",
              "      padding: 0 0 0 0;\n",
              "      width: 32px;\n",
              "    }\n",
              "\n",
              "    .colab-df-convert:hover {\n",
              "      background-color: #E2EBFA;\n",
              "      box-shadow: 0px 1px 2px rgba(60, 64, 67, 0.3), 0px 1px 3px 1px rgba(60, 64, 67, 0.15);\n",
              "      fill: #174EA6;\n",
              "    }\n",
              "\n",
              "    [theme=dark] .colab-df-convert {\n",
              "      background-color: #3B4455;\n",
              "      fill: #D2E3FC;\n",
              "    }\n",
              "\n",
              "    [theme=dark] .colab-df-convert:hover {\n",
              "      background-color: #434B5C;\n",
              "      box-shadow: 0px 1px 3px 1px rgba(0, 0, 0, 0.15);\n",
              "      filter: drop-shadow(0px 1px 2px rgba(0, 0, 0, 0.3));\n",
              "      fill: #FFFFFF;\n",
              "    }\n",
              "  </style>\n",
              "\n",
              "      <script>\n",
              "        const buttonEl =\n",
              "          document.querySelector('#df-aa753026-497a-4ee6-b027-25a345851076 button.colab-df-convert');\n",
              "        buttonEl.style.display =\n",
              "          google.colab.kernel.accessAllowed ? 'block' : 'none';\n",
              "\n",
              "        async function convertToInteractive(key) {\n",
              "          const element = document.querySelector('#df-aa753026-497a-4ee6-b027-25a345851076');\n",
              "          const dataTable =\n",
              "            await google.colab.kernel.invokeFunction('convertToInteractive',\n",
              "                                                     [key], {});\n",
              "          if (!dataTable) return;\n",
              "\n",
              "          const docLinkHtml = 'Like what you see? Visit the ' +\n",
              "            '<a target=\"_blank\" href=https://colab.research.google.com/notebooks/data_table.ipynb>data table notebook</a>'\n",
              "            + ' to learn more about interactive tables.';\n",
              "          element.innerHTML = '';\n",
              "          dataTable['output_type'] = 'display_data';\n",
              "          await google.colab.output.renderOutput(dataTable, element);\n",
              "          const docLink = document.createElement('div');\n",
              "          docLink.innerHTML = docLinkHtml;\n",
              "          element.appendChild(docLink);\n",
              "        }\n",
              "      </script>\n",
              "    </div>\n",
              "  </div>\n",
              "  "
            ]
          },
          "metadata": {},
          "execution_count": 3
        }
      ]
    },
    {
      "cell_type": "code",
      "source": [
        "!pip install -U libsvm-official"
      ],
      "metadata": {
        "colab": {
          "base_uri": "https://localhost:8080/"
        },
        "id": "ns_QJIduSf5c",
        "outputId": "c14c3a36-f6b3-42a6-c904-840ba75f8934"
      },
      "execution_count": 4,
      "outputs": [
        {
          "output_type": "stream",
          "name": "stdout",
          "text": [
            "Looking in indexes: https://pypi.org/simple, https://us-python.pkg.dev/colab-wheels/public/simple/\n",
            "Collecting libsvm-official\n",
            "  Downloading libsvm-official-3.30.0.tar.gz (38 kB)\n",
            "Requirement already satisfied: scipy in /usr/local/lib/python3.7/dist-packages (from libsvm-official) (1.7.3)\n",
            "Requirement already satisfied: numpy<1.23.0,>=1.16.5 in /usr/local/lib/python3.7/dist-packages (from scipy->libsvm-official) (1.21.6)\n",
            "Building wheels for collected packages: libsvm-official\n",
            "  Building wheel for libsvm-official (setup.py) ... \u001b[?25l\u001b[?25hdone\n",
            "  Created wheel for libsvm-official: filename=libsvm_official-3.30.0-cp37-cp37m-linux_x86_64.whl size=101395 sha256=391713c3b10d5c71035f85efc41a035abc28302caeefc34202f107b9a2ef440d\n",
            "  Stored in directory: /root/.cache/pip/wheels/7a/bc/ea/af1d905b704a64fb88c9be94e00fc3d777243734e1f181ef1d\n",
            "Successfully built libsvm-official\n",
            "Installing collected packages: libsvm-official\n",
            "Successfully installed libsvm-official-3.30.0\n"
          ]
        }
      ]
    },
    {
      "cell_type": "code",
      "source": [
        "import numpy as np\n",
        "np.random.seed(3)\n",
        "words = words_table.to_numpy()\n",
        "words.shape"
      ],
      "metadata": {
        "colab": {
          "base_uri": "https://localhost:8080/"
        },
        "id": "_jsHfZCKXF-n",
        "outputId": "77f18ab3-d996-4809-9cb5-ce4fc7813431"
      },
      "execution_count": 5,
      "outputs": [
        {
          "output_type": "execute_result",
          "data": {
            "text/plain": [
              "(89527, 1)"
            ]
          },
          "metadata": {},
          "execution_count": 5
        }
      ]
    },
    {
      "cell_type": "code",
      "source": [
        "valid_indices = [1 for i in range(words.shape[0])]\n",
        "len(valid_indices)"
      ],
      "metadata": {
        "colab": {
          "base_uri": "https://localhost:8080/"
        },
        "id": "fy9wZxz6iF-3",
        "outputId": "9a2b698e-602c-4ea7-fa08-1831e531cc11"
      },
      "execution_count": 6,
      "outputs": [
        {
          "output_type": "execute_result",
          "data": {
            "text/plain": [
              "89527"
            ]
          },
          "metadata": {},
          "execution_count": 6
        }
      ]
    },
    {
      "cell_type": "markdown",
      "source": [
        "Remove rare and stopwords"
      ],
      "metadata": {
        "id": "_rWUw-WmhdfX"
      }
    },
    {
      "cell_type": "code",
      "source": [
        "import scipy\n",
        "from libsvm.svmutil import *\n",
        "y, x = svm_read_problem('aclImdb/train/labeledBow.feat', return_scipy = True) # y: ndarray, x: csr_matrix\n",
        "appearances = (x != 0).sum(0)\n",
        "ratios = appearances/y.shape[0]\n",
        "valid_imdb_indices = np.where((ratios < .01) | (ratios > 0.5), False, True).flatten()\n",
        "invalid_indices = np.logical_not(valid_indices)"
      ],
      "metadata": {
        "id": "V3fVI3LdO3xE"
      },
      "execution_count": 7,
      "outputs": []
    },
    {
      "cell_type": "code",
      "source": [
        "valid_imdb_indices = np.array(valid_imdb_indices, dtype=bool)\n",
        "valid_words = words[valid_imdb_indices, :]\n",
        "X_imdb = x[:, valid_imdb_indices]\n",
        "y_imdb = y\n",
        "y_imdb = (y_imdb >= 5).astype(int)"
      ],
      "metadata": {
        "id": "9jNkWKJla5yV"
      },
      "execution_count": 8,
      "outputs": []
    },
    {
      "cell_type": "markdown",
      "source": [
        "Find 100 top features/words by absolute z-score "
      ],
      "metadata": {
        "id": "h_9p2QU3iX1p"
      }
    },
    {
      "cell_type": "code",
      "source": [
        "from sklearn.preprocessing import StandardScaler\n",
        "import math\n",
        "%matplotlib notebook\n",
        "%matplotlib inline\n",
        "import matplotlib.pyplot as plt\n",
        "\n",
        "scaler = StandardScaler()\n",
        "x_standard = scaler.fit_transform(X_imdb.toarray())\n",
        "y_standard = scaler.fit_transform(y_imdb.reshape(-1,1)).flatten()\n",
        "z = (np.dot(x_standard.T, y_standard))/math.sqrt(y.shape[0])\n",
        "best_features_imdb = np.argsort(abs(z))[::-1][:100]"
      ],
      "metadata": {
        "id": "moKrliYhY_dn"
      },
      "execution_count": 9,
      "outputs": []
    },
    {
      "cell_type": "code",
      "source": [
        "positive_features = np.argsort(z)[::-1][:10]\n",
        "negative_features = np.argsort(z)[:10]\n",
        "word_labels = list(valid_words[positive_features,0]) + list(valid_words[negative_features,0])\n",
        "values = list(z[positive_features]) + list(z[negative_features])\n",
        "fig, ax = plt.subplots()\n",
        "y_pos = np.arange(len(word_labels))\n",
        "\n",
        "\n",
        "ax.barh(y_pos, values, align='center')\n",
        "ax.set_yticks(y_pos)\n",
        "ax.set_yticklabels(word_labels)\n",
        "ax.invert_yaxis()  # labels read top-to-bottom\n",
        "ax.set_xlabel('Z-Score')\n",
        "ax.set_title('10 most positive and 10 most negative words')\n",
        "\n",
        "plt.show()"
      ],
      "metadata": {
        "colab": {
          "base_uri": "https://localhost:8080/",
          "height": 295
        },
        "id": "OzeFL1KuaaJb",
        "outputId": "62b6a78e-6806-43bd-9f96-c37548c2e318"
      },
      "execution_count": 10,
      "outputs": [
        {
          "output_type": "display_data",
          "data": {
            "text/plain": [
              "<Figure size 432x288 with 1 Axes>"
            ],
            "image/png": "[encoded data removed]"
          },
          "metadata": {
            "needs_background": "light"
          }
        }
      ]
    },
    {
      "cell_type": "markdown",
      "source": [
        "##Task 1.2"
      ],
      "metadata": {
        "id": "0VWrFQAdintm"
      }
    },
    {
      "cell_type": "markdown",
      "source": [
        "Getting best features from news dataset"
      ],
      "metadata": {
        "id": "Nh20VtJJZkZw"
      }
    },
    {
      "cell_type": "code",
      "source": [
        "from sklearn.datasets import fetch_20newsgroups\n",
        "from sklearn.feature_extraction.text import CountVectorizer\n",
        "from sklearn.metrics import mutual_info_score\n",
        "from heapq import heappush, heappushpop\n",
        "\n",
        "bunch = fetch_20newsgroups(subset=\"train\", categories=['rec.motorcycles', 'soc.religion.christian', 'sci.med', 'comp.windows.x'], remove=(['headers', 'footers', 'quotes']))\n",
        "count_vect = CountVectorizer()\n",
        "X_train_counts = count_vect.fit_transform(bunch.data)\n",
        "\n",
        "# 4 categories:\n",
        "# -------\n",
        "# 1) rec.motorcycles 8\n",
        "# 2) soc.religion.christian 15\n",
        "# 3) sci.med 13\n",
        "# 4) comp.windows.x 5\n",
        "\n",
        "# category_indices = np.where((bunch.target == 8) | (bunch.target == 5) |(bunch.target == 15) |(bunch.target == 13), True, False).tolist()\n",
        "# X_train_counts = X_train_total_counts[category_indices, :]\n",
        "\n",
        "# One-hot Encoding\n",
        "# -----------------\n",
        "y_news_train = np.zeros((bunch.target.size, 4))\n",
        "y_news_train[np.arange(bunch.target.size), bunch.target] = 1\n",
        "\n",
        "ratios = ((X_train_counts != 0).sum(0))/y_news_train.shape[0]\n",
        "valid_news_indices = np.where((ratios < .01) | (ratios > 0.5), False, True).flatten()\n",
        "valid_news_indices = np.array(valid_news_indices, dtype=bool)\n",
        "\n",
        "X_news = X_train_counts[:, valid_news_indices]\n",
        "best_features_news = set()\n",
        "\n",
        "for i in range(4):\n",
        "  minheap = []\n",
        "  for j in range(X_news.shape[1]):\n",
        "    mis = mutual_info_score(y_news_train[:,i], X_news[:,j].toarray().flatten())\n",
        "    if len(minheap) < 100:\n",
        "      heappush(minheap, (mis,j))\n",
        "    elif minheap[0][0] < mis:\n",
        "      heappushpop(minheap, (mis,j))\n",
        "  \n",
        "  new_words = set([i for (_,i) in minheap])\n",
        "  best_features_news.update(new_words)\n",
        "\n",
        "X_news_train = X_news[:, list(best_features_news)]"
      ],
      "metadata": {
        "id": "2wdFp11I2OKo"
      },
      "execution_count": 11,
      "outputs": []
    },
    {
      "cell_type": "code",
      "source": [
        "print(bunch.target_names)"
      ],
      "metadata": {
        "colab": {
          "base_uri": "https://localhost:8080/"
        },
        "id": "CXSokMYi8d-K",
        "outputId": "ecc7105c-e921-4bc6-8407-c47db37ae66b"
      },
      "execution_count": 12,
      "outputs": [
        {
          "output_type": "stream",
          "name": "stdout",
          "text": [
            "['comp.windows.x', 'rec.motorcycles', 'sci.med', 'soc.religion.christian']\n"
          ]
        }
      ]
    },
    {
      "cell_type": "markdown",
      "source": [
        "#Task 2"
      ],
      "metadata": {
        "id": "rVc9tOhoZvCD"
      }
    },
    {
      "cell_type": "markdown",
      "source": [
        "Logistic Regression"
      ],
      "metadata": {
        "id": "3RmIW5IfZyIy"
      }
    },
    {
      "cell_type": "code",
      "source": [
        "logistic = lambda a: 1.0 / (1 + np.exp(-a))\n",
        "\n",
        "class LogisticRegression:\n",
        "    \n",
        "    def __init__(self, add_bias=True, learning_rate=.05, epsilon=1e-4, max_iters=1000):\n",
        "        self.add_bias = add_bias\n",
        "        self.learning_rate = learning_rate\n",
        "        self.epsilon = epsilon                        \n",
        "        self.max_iters = max_iters                  \n",
        "\n",
        "    def gradient(self, x, y):\n",
        "        yh = logistic(np.dot(x, self.w))    \n",
        "        grad = np.dot(x.T, yh - y)/x.shape[0]\n",
        "        return grad\n",
        "\n",
        "    def ce(self, X, y):\n",
        "      a = np.dot(X, self.w)\n",
        "      return np.sum(y * np.log1p(np.exp(-a)) + (1-y) * np.log1p(np.exp(a)))\n",
        "         \n",
        "    def fit(self, x, y, x_valid=None, y_valid=None):\n",
        "        if x.ndim == 1:\n",
        "            x = x[:, None]\n",
        "            if x_valid is not None:\n",
        "              x_valid = x_valid[:, None]\n",
        "        if self.add_bias:\n",
        "            x = np.column_stack([x,np.ones(x.shape[0])])\n",
        "            if x_valid is not None:\n",
        "              x_valid = np.column_stack([x_valid,np.ones(x_valid.shape[0])])\n",
        "        self.w = np.array(np.zeros(x.shape[1]), dtype=np.float128)\n",
        "        \n",
        "        g = np.inf \n",
        "        t = 0\n",
        "        self.losses = np.array([])\n",
        "        if x_valid is not None and y_valid is not None:\n",
        "          self.losses_valid = np.array([])\n",
        "        while np.linalg.norm(g) > self.epsilon and t < self.max_iters:\n",
        "            self.losses = np.append(self.losses, self.ce(x,y))\n",
        "            if x_valid is not None and y_valid is not None:\n",
        "              cost = self.ce(x_valid,y_valid)\n",
        "              #print(f\"iter {t}: {cost}\")\n",
        "              self.losses_valid = np.append(self.losses_valid, cost)\n",
        "            g = self.gradient(x, y)\n",
        "            self.w = self.w - self.learning_rate * g \n",
        "            t += 1\n",
        "        \n",
        "        return self\n",
        "    \n",
        "    def predict(self, x):\n",
        "        if x.ndim == 1:\n",
        "            x = x[:, None]\n",
        "        if self.add_bias:\n",
        "            x = np.column_stack([x,np.ones(x.shape[0])])\n",
        "        y_hat = logistic(np.dot(x,self.w))            \n",
        "        return y_hat\n",
        "\n",
        "    def check_g(self, x, y):\n",
        "      N,D = x.shape\n",
        "      diff = np.zeros(D+1)\n",
        "      w = np.array(self.w.copy(), dtype=np.float128)\n",
        "\n",
        "      if self.add_bias:\n",
        "        x = np.column_stack([x,np.ones(x.shape[0])])\n",
        "\n",
        "      for i in range(D+1):\n",
        "        epsilon = np.zeros(D+1)\n",
        "        epsilon[i] = np.random.randn(1)[0] * 1e-5\n",
        "        self.w = self.w + epsilon\n",
        "        ce1 = self.ce(x, y)\n",
        "        self.w = w\n",
        "\n",
        "        self.w = self.w - epsilon\n",
        "        ce2 = self.ce(x, y)\n",
        "        self.w = w\n",
        "        \n",
        "        numeric_g = (ce1 - ce2) / (2*epsilon[i])\n",
        "        derived_g = self.gradient(x,y)[i]*N\n",
        "        \n",
        "        diff[i] = np.square(derived_g - numeric_g) / np.square(derived_g + numeric_g)\n",
        "      \n",
        "      return np.nansum(diff)\n",
        "\n",
        "\n"
      ],
      "metadata": {
        "id": "eNus185fZ2BW"
      },
      "execution_count": 13,
      "outputs": []
    },
    {
      "cell_type": "markdown",
      "source": [
        "Training on IMDB Data"
      ],
      "metadata": {
        "id": "3OpvARR_dsFd"
      }
    },
    {
      "cell_type": "code",
      "source": [
        "from sklearn import model_selection\n",
        "model = LogisticRegression()\n",
        "\n",
        "X_imdb_train, X_imdb_valid, y_imdb_train, y_imdb_valid = model_selection.train_test_split(\n",
        "    X_imdb, y_imdb, test_size = 0.5, random_state=1, shuffle=True)\n",
        "\n",
        "X_imdb_train_scaled = np.array(scaler.fit_transform(X_imdb_train[:,best_features_imdb].toarray()), dtype=np.float128)\n",
        "X_imdb_valid_scaled = scaler.fit_transform(X_imdb_valid[:,best_features_imdb].toarray())\n",
        "fit = model.fit(X_imdb_train_scaled, y_imdb_train, X_imdb_valid_scaled, y_imdb_valid)\n",
        "optimal_imdb_iter = fit.losses_valid.argmin()\n",
        "print(optimal_imdb_iter)\n",
        "#Retrain model with opitmal iter\n",
        "model = LogisticRegression(max_iters=optimal_imdb_iter)\n",
        "X_imdb_scaled = np.array(scaler.fit_transform(X_imdb[:,best_features_imdb].toarray()), dtype=np.float128)\n",
        "fit = model.fit(X_imdb_scaled, y_imdb)"
      ],
      "metadata": {
        "colab": {
          "base_uri": "https://localhost:8080/"
        },
        "id": "AsXH_qOIdqe-",
        "outputId": "fa6e80d1-0bbf-4dd2-d53c-513dc76d5f1f"
      },
      "execution_count": 14,
      "outputs": [
        {
          "output_type": "stream",
          "name": "stdout",
          "text": [
            "602\n"
          ]
        }
      ]
    },
    {
      "cell_type": "markdown",
      "source": [
        "Testing on IMDB Data"
      ],
      "metadata": {
        "id": "sMfCLT4ZrP_1"
      }
    },
    {
      "cell_type": "code",
      "source": [
        "from sklearn.metrics import roc_curve, roc_auc_score\n",
        "y_imdb_test, X_imdb_test = svm_read_problem('aclImdb/test/labeledBow.feat', return_scipy = True) # y: ndarray, x: csr_matrix\n",
        "X_imdb_test = X_imdb_test[:,valid_imdb_indices]\n",
        "y_imdb_pred = fit.predict(X_imdb_test[:,best_features_imdb].toarray())\n",
        "y_imdb_test = (y_imdb_test >= 5).astype(int)\n",
        "fpr_log, tpr_log, _ = roc_curve(y_imdb_test, y_imdb_pred)\n",
        "auroc = roc_auc_score(y_imdb_test, y_imdb_pred)\n",
        "auroc"
      ],
      "metadata": {
        "colab": {
          "base_uri": "https://localhost:8080/"
        },
        "id": "mAwkEE3prSrN",
        "outputId": "ff0b8fe0-52b1-4775-9871-d39bf0d7bb33"
      },
      "execution_count": 15,
      "outputs": [
        {
          "output_type": "execute_result",
          "data": {
            "text/plain": [
              "0.8778829824000001"
            ]
          },
          "metadata": {},
          "execution_count": 15
        }
      ]
    },
    {
      "cell_type": "markdown",
      "source": [
        "Multiclass Regression"
      ],
      "metadata": {
        "id": "2WnshP83yL0c"
      }
    },
    {
      "cell_type": "code",
      "source": [
        "class MulticlassRegression:\n",
        "\n",
        "  def __init__(self, num_features, num_classes, learning_rate=.0005, epsilon=1e-4, max_iters=1e3):\n",
        "      #populate W with values from a random sample from a uniform distribution\n",
        "      self.lr = learning_rate\n",
        "      self.epsilon = epsilon\n",
        "      self.max_iters = math.floor(max_iters)\n",
        "      self.num_features = num_features\n",
        "      self.num_classes = num_classes\n",
        "      self.W = np.array(np.random.rand(num_features, num_classes), dtype=np.float128)\n",
        "      \n",
        "\n",
        "  def predict(self, x):\n",
        "    #compute product XW\n",
        "    z = x @ self.W\n",
        "    #compute soft max\n",
        "    #adjust terms \n",
        "    z_max = z.max(axis=1)\n",
        "    z = z - np.tile(z_max, (4, 1)).transpose()\n",
        "    y_pred = np.exp(z)\n",
        "    return y_pred / y_pred.sum(axis=1).reshape(x.shape[0], 1)\n",
        "\n",
        "  def gradient(self, x, y):\n",
        "    x_t = np.transpose(x)\n",
        "    return x_t @ (self.predict(x) - y) \n",
        "\n",
        "  def cost(self, x, y):\n",
        "    return -np.nansum(y * np.log(self.predict(x)))\n",
        "\n",
        "  def fit(self, x, y, x_valid=None, y_valid=None):\n",
        "    loss_train = np.array([])\n",
        "    loss_valid = np.array([])\n",
        "    for n in range(self.max_iters):\n",
        "      g = self.gradient(x, y)\n",
        "      self.W = self.W - self.lr * g\n",
        "      cost = self.cost(x,y)\n",
        "      loss_train = np.append(loss_train, cost)\n",
        "      if x_valid is not None and y_valid is not None:\n",
        "        loss_valid = np.append(loss_valid, self.cost(x_valid, y_valid))\n",
        "      if np.linalg.norm(g) < self.epsilon:\n",
        "        break\n",
        "    \n",
        "    return loss_train, loss_valid\n",
        "  \n",
        "  def check_grad(self, x, y):\n",
        "    N, C = y.shape\n",
        "    D = x.shape[1]\n",
        "\n",
        "    diff = np.zeros((D, C))\n",
        "\n",
        "    W = self.W.copy()\n",
        "\n",
        "    for i in range(D):\n",
        "      for j in range(C):\n",
        "        epsilon = np.zeros((D, C))\n",
        "        epsilon[i, j] = np.random.rand() * 1e-4\n",
        "\n",
        "        self.W = self.W + epsilon\n",
        "        J1 = self.cost(x, y)\n",
        "        self.W = W\n",
        "\n",
        "        self.W = self.W - epsilon\n",
        "        J2 = self.cost(x, y)\n",
        "        self.W = W\n",
        "\n",
        "        numeric_grad = (J1 - J2) / (2 * epsilon[i, j])\n",
        "        derived_grad = self.gradient(x, y)[i, j]\n",
        "\n",
        "        diff[i, j] = np.square(derived_grad - numeric_grad).sum() / \\\n",
        "                      np.square(derived_grad + numeric_grad).sum()\n",
        "\n",
        "\n",
        "    return diff.sum()\n"
      ],
      "metadata": {
        "id": "0yo3oDZKFx9c"
      },
      "execution_count": 16,
      "outputs": []
    },
    {
      "cell_type": "markdown",
      "source": [
        "Training on News Dataset"
      ],
      "metadata": {
        "id": "7f_22Ms6j0bx"
      }
    },
    {
      "cell_type": "code",
      "source": [
        "model = MulticlassRegression(X_news_train.shape[1], y_news_train.shape[1])\n",
        "\n",
        "\n",
        "X_news_train_, X_news_valid, y_news_train_, y_news_valid = model_selection.train_test_split(\n",
        "    X_news_train, y_news_train, test_size = 0.5, random_state=1, shuffle=True)\n",
        "X_news_train_scaled = np.array(scaler.fit_transform(X_news_train_.toarray()), dtype=np.float128)\n",
        "X_news_valid_scaled = scaler.fit_transform(X_news_valid.toarray())\n",
        "ce_train, ce_valid = model.fit(X_news_train_scaled, y_news_train_, X_news_valid_scaled, y_news_valid)\n",
        "optimal_news_iter = ce_valid.argmin()\n",
        "print(optimal_news_iter)\n",
        "\n",
        "#Retrain model using optimal iter\n",
        "model = MulticlassRegression(X_news_train.shape[1], y_news_train.shape[1], max_iters=optimal_news_iter)\n",
        "X_news_train_scaled = np.array(scaler.fit_transform(X_news_train.toarray()), dtype=np.float128)\n",
        "ce_train, ce_valid = model.fit(X_news_train_scaled, y_news_train)"
      ],
      "metadata": {
        "colab": {
          "base_uri": "https://localhost:8080/"
        },
        "id": "1RFfVH9LjZcu",
        "outputId": "9f3dab6c-b475-434e-bc12-8b8eb855c1a5"
      },
      "execution_count": 17,
      "outputs": [
        {
          "output_type": "stream",
          "name": "stdout",
          "text": [
            "299\n"
          ]
        }
      ]
    },
    {
      "cell_type": "markdown",
      "source": [
        "Testing on News Dataset"
      ],
      "metadata": {
        "id": "mFyeKaNXj3Nj"
      }
    },
    {
      "cell_type": "code",
      "source": [
        "bunch_test = fetch_20newsgroups(subset=\"test\", categories=['rec.motorcycles', 'soc.religion.christian', 'sci.med', 'comp.windows.x'], remove=(['headers', 'footers', 'quotes']))\n",
        "count_vect_test = CountVectorizer()\n",
        "X_test_counts = count_vect_test.fit_transform(bunch_test.data)\n",
        "test_words = count_vect_test.vocabulary_\n",
        "valid_news_words = count_vect.get_feature_names_out()[valid_news_indices]\n",
        "feature_names = valid_news_words[list(best_features_news)]\n",
        "X_news_test = np.zeros((X_test_counts.shape[0], X_news_train.shape[1]))\n",
        "for i in range(feature_names.shape[0]):\n",
        "  if feature_names[i] in test_words:\n",
        "    X_news_test[:,i] = X_test_counts[:,test_words[feature_names[i]]].toarray().flatten()\n",
        "\n",
        "y_test_news = np.zeros((bunch_test.target.size, 4))\n",
        "y_test_news[np.arange(bunch_test.target.size), bunch_test.target] = 1\n",
        "y_news_pred = model.predict(X_news_test)\n",
        "\n",
        "accuracy = sum(y_news_pred.argmax(axis=1) == y_test_news.argmax(axis=1))\n",
        "accuracy = accuracy / y_test_news.shape[0]\n",
        "accuracy"
      ],
      "metadata": {
        "colab": {
          "base_uri": "https://localhost:8080/"
        },
        "id": "o8bNC23sjZst",
        "outputId": "bc6b5338-5581-4c75-8621-5e5d89178833"
      },
      "execution_count": 18,
      "outputs": [
        {
          "output_type": "execute_result",
          "data": {
            "text/plain": [
              "0.7479521109010712"
            ]
          },
          "metadata": {},
          "execution_count": 18
        }
      ]
    },
    {
      "cell_type": "code",
      "source": [
        "print(bunch_test.target_names)"
      ],
      "metadata": {
        "colab": {
          "base_uri": "https://localhost:8080/"
        },
        "id": "WS5hgvpb8Tia",
        "outputId": "a9697ca3-e267-4183-efe6-142430bb0f9e"
      },
      "execution_count": 19,
      "outputs": [
        {
          "output_type": "stream",
          "name": "stdout",
          "text": [
            "['comp.windows.x', 'rec.motorcycles', 'sci.med', 'soc.religion.christian']\n"
          ]
        }
      ]
    },
    {
      "cell_type": "markdown",
      "source": [
        "KNN Comparison"
      ],
      "metadata": {
        "id": "x4i0Jhazj8sg"
      }
    },
    {
      "cell_type": "code",
      "source": [
        "from sklearn.neighbors import KNeighborsClassifier\n",
        "x_imdb_test = X_imdb_test[:,best_features_imdb].toarray()\n",
        "\n",
        "#KNN Binary Classification on IMDB dataset\n",
        "knn_imdb = KNeighborsClassifier()\n",
        "knn_imdb.fit(X_imdb_scaled, y_imdb)\n",
        "pred = knn_imdb.predict(x_imdb_test)\n",
        "imdb_score = roc_auc_score(y_imdb_test, pred)\n",
        "fpr_knn, tpr_knn, _ = roc_curve(y_imdb_test, pred)\n",
        "\n",
        "#KNN Multiclass Classification on 20-news-group dataset\n",
        "knn_news = KNeighborsClassifier(1)\n",
        "knn_news.fit(X_news_train, y_news_train)\n",
        "news_score = knn_news.score(X_news_test, y_test_news)\n",
        "\n",
        "print(f\"IMDB auroc: {imdb_score}\")\n",
        "print(f\"News accuracy: {news_score}\")"
      ],
      "metadata": {
        "colab": {
          "base_uri": "https://localhost:8080/"
        },
        "id": "xJZIHDovL50S",
        "outputId": "c0d90067-864f-4443-8b8a-9a92c67870e4"
      },
      "execution_count": 20,
      "outputs": [
        {
          "output_type": "stream",
          "name": "stdout",
          "text": [
            "IMDB auroc: 0.6343599999999999\n",
            "News accuracy: 0.4612476370510397\n"
          ]
        }
      ]
    },
    {
      "cell_type": "code",
      "source": [
        "plt.clf()\n",
        "plt.plot(fpr_log, tpr_log,label=\"Logistic Regression\")\n",
        "plt.text(0.4, 0.2, 'Logistic Regression: AUC = '+ str(round(auroc,2)))\n",
        "plt.plot(fpr_knn, tpr_knn, label=\"KNN\")\n",
        "plt.text(0.4, 0.1, 'KNN: AUC = '+ str(round(imdb_score,2)))\n",
        "plt.plot([0, 1], [0, 1], color=\"navy\", lw=2, linestyle=\"--\")\n",
        "plt.xlim([0.0, 1.0])\n",
        "plt.ylim([0.0, 1.05])\n",
        "\n",
        "plt.xlabel(\"False Positive Rate\")\n",
        "plt.ylabel(\"True Positive Rate\")\n",
        "plt.title('ROC in predicting IMDB Reviews')\n",
        "plt.legend(bbox_to_anchor=(1.04, 0.5), loc=\"upper left\")\n"
      ],
      "metadata": {
        "colab": {
          "base_uri": "https://localhost:8080/",
          "height": 312
        },
        "id": "DXZeKUxbiYTk",
        "outputId": "42c7daa5-d610-4a17-9399-6e8bfe547753"
      },
      "execution_count": 21,
      "outputs": [
        {
          "output_type": "execute_result",
          "data": {
            "text/plain": [
              "<matplotlib.legend.Legend at 0x7f1b2f41c910>"
            ]
          },
          "metadata": {},
          "execution_count": 21
        },
        {
          "output_type": "display_data",
          "data": {
            "text/plain": [
              "<Figure size 432x288 with 1 Axes>"
            ],
            "image/png": "[encoded data removed]"
          },
          "metadata": {
            "needs_background": "light"
          }
        }
      ]
    },
    {
      "cell_type": "markdown",
      "source": [
        "##Task 2.1"
      ],
      "metadata": {
        "id": "eJU5LqM1jxGH"
      }
    },
    {
      "cell_type": "markdown",
      "source": [
        "Gradient of Logisitic Regression Model"
      ],
      "metadata": {
        "id": "m7pitAxWj4A_"
      }
    },
    {
      "cell_type": "code",
      "source": [
        "fit.check_g(X_imdb_scaled, y_imdb)"
      ],
      "metadata": {
        "id": "L5F-u3vJj2PQ",
        "colab": {
          "base_uri": "https://localhost:8080/"
        },
        "outputId": "ae637b0b-b76b-4159-d71f-7d565c10009d"
      },
      "execution_count": 22,
      "outputs": [
        {
          "output_type": "execute_result",
          "data": {
            "text/plain": [
              "1.0805843549235597e-11"
            ]
          },
          "metadata": {},
          "execution_count": 22
        }
      ]
    },
    {
      "cell_type": "markdown",
      "source": [
        "Gradient of Multiclass Regression Model"
      ],
      "metadata": {
        "id": "J5xcn4wej9Kb"
      }
    },
    {
      "cell_type": "code",
      "source": [
        "model.check_grad(X_news_train_scaled, y_news_train)"
      ],
      "metadata": {
        "id": "ZYB6Jluoj_jR",
        "colab": {
          "base_uri": "https://localhost:8080/"
        },
        "outputId": "53ebbeb8-0232-4efd-d86a-aacbf9829440"
      },
      "execution_count": 23,
      "outputs": [
        {
          "output_type": "execute_result",
          "data": {
            "text/plain": [
              "1.5283153478875715e-09"
            ]
          },
          "metadata": {},
          "execution_count": 23
        }
      ]
    },
    {
      "cell_type": "markdown",
      "source": [
        "CE vs Iteration of Logistic Regression"
      ],
      "metadata": {
        "id": "3f8A8x7ikBVf"
      }
    },
    {
      "cell_type": "code",
      "source": [
        "plt.clf()\n",
        "plt.figure(figsize=((16/9)*3.6,3.6))\n",
        "plt.plot(fit.losses)\n",
        "plt.ylabel(\"Cross entropy\")\n",
        "plt.xlabel(\"iteration\")\n",
        "plt.title(\"Cross entropy vs Iteration: Logisitic Regression model on IMDB dataset \")"
      ],
      "metadata": {
        "id": "vAIxs9w2kI3S",
        "colab": {
          "base_uri": "https://localhost:8080/",
          "height": 308
        },
        "outputId": "2a5c7c9f-a46b-447a-cc53-79fabdf8748f"
      },
      "execution_count": 24,
      "outputs": [
        {
          "output_type": "execute_result",
          "data": {
            "text/plain": [
              "Text(0.5, 1.0, 'Cross entropy vs Iteration: Logisitic Regression model on IMDB dataset ')"
            ]
          },
          "metadata": {},
          "execution_count": 24
        },
        {
          "output_type": "display_data",
          "data": {
            "text/plain": [
              "<Figure size 432x288 with 0 Axes>"
            ]
          },
          "metadata": {}
        },
        {
          "output_type": "display_data",
          "data": {
            "text/plain": [
              "<Figure size 460.8x259.2 with 1 Axes>"
            ],
            "image/png": "[encoded data removed]"
          },
          "metadata": {
            "needs_background": "light"
          }
        }
      ]
    },
    {
      "cell_type": "markdown",
      "source": [
        "CE vs Iteration of Multiclass Regression Model"
      ],
      "metadata": {
        "id": "juZDpuPIkJQv"
      }
    },
    {
      "cell_type": "code",
      "source": [
        "plt.clf()\n",
        "plt.figure(figsize=((16/9)*3.6,3.6))\n",
        "plt.plot(ce_train)\n",
        "plt.ylabel(\"Cross entropy\")\n",
        "plt.xlabel(\"iteration\")\n",
        "plt.title(\"Cross entropy vs Iteration: Multiclass Regression model on 20-news-group dataset \")"
      ],
      "metadata": {
        "id": "Dn1kZk7ckJtD",
        "colab": {
          "base_uri": "https://localhost:8080/",
          "height": 308
        },
        "outputId": "3ba4c603-ef08-4586-ad81-ef0904628010"
      },
      "execution_count": 25,
      "outputs": [
        {
          "output_type": "execute_result",
          "data": {
            "text/plain": [
              "Text(0.5, 1.0, 'Cross entropy vs Iteration: Multiclass Regression model on 20-news-group dataset ')"
            ]
          },
          "metadata": {},
          "execution_count": 25
        },
        {
          "output_type": "display_data",
          "data": {
            "text/plain": [
              "<Figure size 432x288 with 0 Axes>"
            ]
          },
          "metadata": {}
        },
        {
          "output_type": "display_data",
          "data": {
            "text/plain": [
              "<Figure size 460.8x259.2 with 1 Axes>"
            ],
            "image/png": "[encoded data removed]"
          },
          "metadata": {
            "needs_background": "light"
          }
        }
      ]
    },
    {
      "cell_type": "markdown",
      "source": [
        "#Task 3"
      ],
      "metadata": {
        "id": "55y8Tgw6lgNL"
      }
    },
    {
      "cell_type": "code",
      "source": [
        "auroc_labels = ['20%', '40%', '60%', '80%', '100%']\n",
        "knn_auroc_values = []\n",
        "logreg_auroc_values = []\n",
        "for i in [.2,.4,.6,.8]:\n",
        "  imdb_train_x, _, imdb_train_y, _ = model_selection.train_test_split(\n",
        "      X_imdb_scaled, y_imdb, test_size=1-i, random_state=1, shuffle=True\n",
        "  )\n",
        "  knn = KNeighborsClassifier()\n",
        "  knn.fit(imdb_train_x, imdb_train_y)\n",
        "  knn_pred = knn.predict(x_imdb_test)\n",
        "  knn_score = roc_auc_score(y_imdb_test, knn_pred)\n",
        "  knn_auroc_values.append(knn_score)\n",
        "\n",
        "  logreg = LogisticRegression(max_iters=optimal_imdb_iter)\n",
        "  logreg.fit(imdb_train_x, imdb_train_y)\n",
        "  logreg_pred = logreg.predict(x_imdb_test)\n",
        "  logreg_score = roc_auc_score(y_imdb_test, logreg_pred)\n",
        "  logreg_auroc_values.append(logreg_score)\n",
        "\n",
        "knn_auroc_values.append(imdb_score)\n",
        "logreg_auroc_values.append(auroc)"
      ],
      "metadata": {
        "id": "1CoG-s0vliHQ"
      },
      "execution_count": 26,
      "outputs": []
    },
    {
      "cell_type": "code",
      "source": [
        "X_axis = np.arange(len(auroc_labels))\n",
        "  \n",
        "plt.bar(X_axis - 0.2, knn_auroc_values, 0.4, label = 'KNN')\n",
        "plt.bar(X_axis + 0.2, logreg_auroc_values, 0.4, label = 'LogisticRegression')\n",
        "  \n",
        "plt.xticks(X_axis, auroc_labels)\n",
        "plt.xlabel(\"Percentage of Training Data\")\n",
        "plt.ylabel(\"AUROC\")\n",
        "plt.title(\"AUROC vs % of Training Data for IMDB Reviews\")\n",
        "plt.legend()\n",
        "plt.show()"
      ],
      "metadata": {
        "colab": {
          "base_uri": "https://localhost:8080/",
          "height": 295
        },
        "id": "zEVGEadutv1j",
        "outputId": "d2a1ae39-8f2c-424e-83cf-68f5f6b595ea"
      },
      "execution_count": 27,
      "outputs": [
        {
          "output_type": "display_data",
          "data": {
            "text/plain": [
              "<Figure size 432x288 with 1 Axes>"
            ],
            "image/png": "[encoded data removed]"
          },
          "metadata": {
            "needs_background": "light"
          }
        }
      ]
    },
    {
      "cell_type": "code",
      "source": [
        "knn_acc_values = []\n",
        "multireg_acc_values = []\n",
        "for i in [.2,.4,.6,.8]:\n",
        "  news_train_x, _, news_train_y, _ = model_selection.train_test_split(\n",
        "      X_news_train, y_news_train, test_size=1-i, random_state=1, shuffle=True\n",
        "  )\n",
        "  knn = KNeighborsClassifier()\n",
        "  knn.fit(news_train_x, news_train_y)\n",
        "  knn_pred = knn_imdb.predict(x_imdb_test)\n",
        "  knn_news_score = knn.score(X_news_test, y_test_news)\n",
        "  knn_acc_values.append(knn_news_score)\n",
        "\n",
        "  multireg = MulticlassRegression(news_train_x.shape[1], news_train_y.shape[1], max_iters=optimal_news_iter)\n",
        "  multireg.fit(news_train_x, news_train_y)\n",
        "  multireg_pred = multireg.predict(X_news_test)\n",
        "  multireg_acc = sum(multireg_pred.argmax(axis=1) == y_test_news.argmax(axis=1)) / y_test_news.shape[0]\n",
        "  multireg_acc_values.append(multireg_acc)\n",
        "  \n",
        "\n",
        "knn_acc_values.append(news_score)\n",
        "multireg_acc_values.append(accuracy)"
      ],
      "metadata": {
        "id": "Vbk64peVubPF"
      },
      "execution_count": 28,
      "outputs": []
    },
    {
      "cell_type": "code",
      "source": [
        "X_axis = np.arange(len(auroc_labels))\n",
        "  \n",
        "plt.bar(X_axis - 0.2, knn_acc_values, 0.4, label = 'KNN')\n",
        "plt.bar(X_axis + 0.2, multireg_acc_values, 0.4, label = 'MutliclassRegression')\n",
        "  \n",
        "plt.xticks(X_axis, auroc_labels)\n",
        "plt.xlabel(\"Percentage of Training Data\")\n",
        "plt.ylabel(\"Classification Accuracy\")\n",
        "plt.title(\"Classification Accuracy vs % of Training Data for 20-news-group\")\n",
        "plt.legend()\n",
        "plt.show()"
      ],
      "metadata": {
        "colab": {
          "base_uri": "https://localhost:8080/",
          "height": 295
        },
        "id": "NhXAVkqYx_3k",
        "outputId": "843e5c50-03c4-425c-eaa0-876b661fe87f"
      },
      "execution_count": 29,
      "outputs": [
        {
          "output_type": "display_data",
          "data": {
            "text/plain": [
              "<Figure size 432x288 with 1 Axes>"
            ],
            "image/png": "[encoded data removed]"
          },
          "metadata": {
            "needs_background": "light"
          }
        }
      ]
    },
    {
      "cell_type": "code",
      "source": [
        "weights = fit.w[:len(fit.w)-1]\n",
        "positive_features = np.argsort(weights)[::-1][:10]\n",
        "negative_features = np.argsort(weights)[:10]\n",
        "print(valid_words.shape)\n",
        "valid_words_bf = valid_words[best_features_imdb] \n",
        "word_labels = list(valid_words_bf[positive_features,0]) + list(valid_words_bf[negative_features,0])\n",
        "values = list(weights[positive_features]) + list(weights[negative_features])\n",
        "fig, ax = plt.subplots()\n",
        "y_pos = np.arange(len(word_labels))\n",
        "\n",
        "\n",
        "ax.barh(y_pos, values, align='center')\n",
        "ax.set_yticks(y_pos)\n",
        "ax.set_yticklabels(word_labels)\n",
        "ax.invert_yaxis()  # labels read top-to-bottom\n",
        "ax.set_xlabel('Effect Size (Logisitic Regression Weight Coefficients)')\n",
        "ax.set_title('10 most positive and 10 most negative words')\n",
        "plt.show()"
      ],
      "metadata": {
        "colab": {
          "base_uri": "https://localhost:8080/",
          "height": 312
        },
        "id": "svASPlo-0JJ_",
        "outputId": "bbb05702-9878-4d54-de13-d6a1e3cb52a3"
      },
      "execution_count": 30,
      "outputs": [
        {
          "output_type": "stream",
          "name": "stdout",
          "text": [
            "(1744, 1)\n"
          ]
        },
        {
          "output_type": "display_data",
          "data": {
            "text/plain": [
              "<Figure size 432x288 with 1 Axes>"
            ],
            "image/png": "[encoded data removed]"
          },
          "metadata": {
            "needs_background": "light"
          }
        }
      ]
    },
    {
      "cell_type": "code",
      "source": [
        "best_feature_indicies = np.array(np.zeros((4,5)),dtype=int)\n",
        "for i in range(4):\n",
        "  best_feature_indicies[i,:] = np.argsort(model.W[:,i], axis=0)[::-1][:5]\n",
        "best_feature_names = feature_names[best_feature_indicies]\n",
        "W_hat = model.W[best_feature_indicies]\n",
        "W_hat_transformed = np.exp(W_hat)\n",
        "W_hat_transformed = W_hat_transformed / W_hat_transformed.sum(axis=0)[None,:]\n",
        "\n",
        "W_hat_transformed_df = pd.DataFrame(W_hat_transformed.reshape(20,4), columns=bunch.target_names, index=best_feature_names.flatten())\n",
        "from seaborn import heatmap\n",
        "hmp = heatmap(W_hat_transformed_df, cmap='gray_r')\n",
        "fig = hmp.get_figure()"
      ],
      "metadata": {
        "colab": {
          "base_uri": "https://localhost:8080/",
          "height": 361
        },
        "id": "Uw2e7L9k6LXG",
        "outputId": "f5e0ff33-6049-47a6-9e70-d26168b2d6d9"
      },
      "execution_count": 31,
      "outputs": [
        {
          "output_type": "display_data",
          "data": {
            "text/plain": [
              "<Figure size 432x288 with 2 Axes>"
            ],
            "image/png": "[encoded data removed]"
          },
          "metadata": {
            "needs_background": "light"
          }
        }
      ]
    }
  ]
}