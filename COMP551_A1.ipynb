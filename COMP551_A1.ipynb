{
  "nbformat": 4,
  "nbformat_minor": 0,
  "metadata": {
    "colab": {
      "provenance": [],
      "collapsed_sections": [],
      "include_colab_link": true
    },
    "kernelspec": {
      "name": "python3",
      "display_name": "Python 3"
    },
    "language_info": {
      "name": "python"
    }
  },
  "cells": [
    {
      "cell_type": "markdown",
      "metadata": {
        "id": "view-in-github",
        "colab_type": "text"
      },
      "source": [
        "<a href=\"https://colab.research.google.com/github/dgebenicolas/Machine-Learning-Projects/blob/main/COMP551_A1.ipynb\" target=\"_parent\"><img src=\"https://colab.research.google.com/assets/colab-badge.svg\" alt=\"Open In Colab\"/></a>"
      ]
    },
    {
      "cell_type": "markdown",
      "source": [
        "# Task 1\n"
      ],
      "metadata": {
        "id": "07Bf4pN0Y0Uy"
      }
    },
    {
      "cell_type": "markdown",
      "source": [
        "Loading and cleaning hepatitis dataset"
      ],
      "metadata": {
        "id": "CjYqcEsstAfK"
      }
    },
    {
      "cell_type": "code",
      "execution_count": null,
      "metadata": {
        "colab": {
          "base_uri": "https://localhost:8080/",
          "height": 288
        },
        "id": "LqjtqyibX5nA",
        "outputId": "8127d6e6-db13-4616-9949-aaeb19caff2e"
      },
      "outputs": [
        {
          "output_type": "execute_result",
          "data": {
            "text/plain": [
              "    CLASS  AGE  SEX STEROID  ANTIVIRALS FATIGUE MALAISE ANOREXIA LIVER BIG  \\\n",
              "4       2   34    1       2           2       2       2        2         2   \n",
              "9       2   39    1       1           1       2       2        2         1   \n",
              "10      2   32    1       2           1       1       2        2         2   \n",
              "11      2   41    1       2           1       1       2        2         2   \n",
              "12      2   30    1       2           2       1       2        2         2   \n",
              "\n",
              "   LIVER FARM SPLEEN PALPABLE SPIDERS ASCITES VARICES BILIRUBIN ALK PHOSPHATE  \\\n",
              "4           2               2       2       2       2      0.90            95   \n",
              "9           1               2       2       2       2      1.30            78   \n",
              "10          1               2       1       2       2      1.00            59   \n",
              "11          1               2       2       2       2      0.90            81   \n",
              "12          1               2       2       2       2      2.20            57   \n",
              "\n",
              "   SGOT ALBUMIN PROTIME  HISTOLOGY  \n",
              "4    28     4.0      75          1  \n",
              "9    30     4.4      85          1  \n",
              "10  249     3.7      54          1  \n",
              "11   60     3.9      52          1  \n",
              "12  144     4.9      78          1  "
            ],
            "text/html": [
              "\n",
              "  <div id=\"df-6f7d4b5f-df3a-4f39-a55b-898cfa8c6ad1\">\n",
              "    <div class=\"colab-df-container\">\n",
              "      <div>\n",
              "<style scoped>\n",
              "    .dataframe tbody tr th:only-of-type {\n",
              "        vertical-align: middle;\n",
              "    }\n",
              "\n",
              "    .dataframe tbody tr th {\n",
              "        vertical-align: top;\n",
              "    }\n",
              "\n",
              "    .dataframe thead th {\n",
              "        text-align: right;\n",
              "    }\n",
              "</style>\n",
              "<table border=\"1\" class=\"dataframe\">\n",
              "  <thead>\n",
              "    <tr style=\"text-align: right;\">\n",
              "      <th></th>\n",
              "      <th>CLASS</th>\n",
              "      <th>AGE</th>\n",
              "      <th>SEX</th>\n",
              "      <th>STEROID</th>\n",
              "      <th>ANTIVIRALS</th>\n",
              "      <th>FATIGUE</th>\n",
              "      <th>MALAISE</th>\n",
              "      <th>ANOREXIA</th>\n",
              "      <th>LIVER BIG</th>\n",
              "      <th>LIVER FARM</th>\n",
              "      <th>SPLEEN PALPABLE</th>\n",
              "      <th>SPIDERS</th>\n",
              "      <th>ASCITES</th>\n",
              "      <th>VARICES</th>\n",
              "      <th>BILIRUBIN</th>\n",
              "      <th>ALK PHOSPHATE</th>\n",
              "      <th>SGOT</th>\n",
              "      <th>ALBUMIN</th>\n",
              "      <th>PROTIME</th>\n",
              "      <th>HISTOLOGY</th>\n",
              "    </tr>\n",
              "  </thead>\n",
              "  <tbody>\n",
              "    <tr>\n",
              "      <th>4</th>\n",
              "      <td>2</td>\n",
              "      <td>34</td>\n",
              "      <td>1</td>\n",
              "      <td>2</td>\n",
              "      <td>2</td>\n",
              "      <td>2</td>\n",
              "      <td>2</td>\n",
              "      <td>2</td>\n",
              "      <td>2</td>\n",
              "      <td>2</td>\n",
              "      <td>2</td>\n",
              "      <td>2</td>\n",
              "      <td>2</td>\n",
              "      <td>2</td>\n",
              "      <td>0.90</td>\n",
              "      <td>95</td>\n",
              "      <td>28</td>\n",
              "      <td>4.0</td>\n",
              "      <td>75</td>\n",
              "      <td>1</td>\n",
              "    </tr>\n",
              "    <tr>\n",
              "      <th>9</th>\n",
              "      <td>2</td>\n",
              "      <td>39</td>\n",
              "      <td>1</td>\n",
              "      <td>1</td>\n",
              "      <td>1</td>\n",
              "      <td>2</td>\n",
              "      <td>2</td>\n",
              "      <td>2</td>\n",
              "      <td>1</td>\n",
              "      <td>1</td>\n",
              "      <td>2</td>\n",
              "      <td>2</td>\n",
              "      <td>2</td>\n",
              "      <td>2</td>\n",
              "      <td>1.30</td>\n",
              "      <td>78</td>\n",
              "      <td>30</td>\n",
              "      <td>4.4</td>\n",
              "      <td>85</td>\n",
              "      <td>1</td>\n",
              "    </tr>\n",
              "    <tr>\n",
              "      <th>10</th>\n",
              "      <td>2</td>\n",
              "      <td>32</td>\n",
              "      <td>1</td>\n",
              "      <td>2</td>\n",
              "      <td>1</td>\n",
              "      <td>1</td>\n",
              "      <td>2</td>\n",
              "      <td>2</td>\n",
              "      <td>2</td>\n",
              "      <td>1</td>\n",
              "      <td>2</td>\n",
              "      <td>1</td>\n",
              "      <td>2</td>\n",
              "      <td>2</td>\n",
              "      <td>1.00</td>\n",
              "      <td>59</td>\n",
              "      <td>249</td>\n",
              "      <td>3.7</td>\n",
              "      <td>54</td>\n",
              "      <td>1</td>\n",
              "    </tr>\n",
              "    <tr>\n",
              "      <th>11</th>\n",
              "      <td>2</td>\n",
              "      <td>41</td>\n",
              "      <td>1</td>\n",
              "      <td>2</td>\n",
              "      <td>1</td>\n",
              "      <td>1</td>\n",
              "      <td>2</td>\n",
              "      <td>2</td>\n",
              "      <td>2</td>\n",
              "      <td>1</td>\n",
              "      <td>2</td>\n",
              "      <td>2</td>\n",
              "      <td>2</td>\n",
              "      <td>2</td>\n",
              "      <td>0.90</td>\n",
              "      <td>81</td>\n",
              "      <td>60</td>\n",
              "      <td>3.9</td>\n",
              "      <td>52</td>\n",
              "      <td>1</td>\n",
              "    </tr>\n",
              "    <tr>\n",
              "      <th>12</th>\n",
              "      <td>2</td>\n",
              "      <td>30</td>\n",
              "      <td>1</td>\n",
              "      <td>2</td>\n",
              "      <td>2</td>\n",
              "      <td>1</td>\n",
              "      <td>2</td>\n",
              "      <td>2</td>\n",
              "      <td>2</td>\n",
              "      <td>1</td>\n",
              "      <td>2</td>\n",
              "      <td>2</td>\n",
              "      <td>2</td>\n",
              "      <td>2</td>\n",
              "      <td>2.20</td>\n",
              "      <td>57</td>\n",
              "      <td>144</td>\n",
              "      <td>4.9</td>\n",
              "      <td>78</td>\n",
              "      <td>1</td>\n",
              "    </tr>\n",
              "  </tbody>\n",
              "</table>\n",
              "</div>\n",
              "      <button class=\"colab-df-convert\" onclick=\"convertToInteractive('df-6f7d4b5f-df3a-4f39-a55b-898cfa8c6ad1')\"\n",
              "              title=\"Convert this dataframe to an interactive table.\"\n",
              "              style=\"display:none;\">\n",
              "        \n",
              "  <svg xmlns=\"http://www.w3.org/2000/svg\" height=\"24px\"viewBox=\"0 0 24 24\"\n",
              "       width=\"24px\">\n",
              "    <path d=\"M0 0h24v24H0V0z\" fill=\"none\"/>\n",
              "    <path d=\"M18.56 5.44l.94 2.06.94-2.06 2.06-.94-2.06-.94-.94-2.06-.94 2.06-2.06.94zm-11 1L8.5 8.5l.94-2.06 2.06-.94-2.06-.94L8.5 2.5l-.94 2.06-2.06.94zm10 10l.94 2.06.94-2.06 2.06-.94-2.06-.94-.94-2.06-.94 2.06-2.06.94z\"/><path d=\"M17.41 7.96l-1.37-1.37c-.4-.4-.92-.59-1.43-.59-.52 0-1.04.2-1.43.59L10.3 9.45l-7.72 7.72c-.78.78-.78 2.05 0 2.83L4 21.41c.39.39.9.59 1.41.59.51 0 1.02-.2 1.41-.59l7.78-7.78 2.81-2.81c.8-.78.8-2.07 0-2.86zM5.41 20L4 18.59l7.72-7.72 1.47 1.35L5.41 20z\"/>\n",
              "  </svg>\n",
              "      </button>\n",
              "      \n",
              "  <style>\n",
              "    .colab-df-container {\n",
              "      display:flex;\n",
              "      flex-wrap:wrap;\n",
              "      gap: 12px;\n",
              "    }\n",
              "\n",
              "    .colab-df-convert {\n",
              "      background-color: #E8F0FE;\n",
              "      border: none;\n",
              "      border-radius: 50%;\n",
              "      cursor: pointer;\n",
              "      display: none;\n",
              "      fill: #1967D2;\n",
              "      height: 32px;\n",
              "      padding: 0 0 0 0;\n",
              "      width: 32px;\n",
              "    }\n",
              "\n",
              "    .colab-df-convert:hover {\n",
              "      background-color: #E2EBFA;\n",
              "      box-shadow: 0px 1px 2px rgba(60, 64, 67, 0.3), 0px 1px 3px 1px rgba(60, 64, 67, 0.15);\n",
              "      fill: #174EA6;\n",
              "    }\n",
              "\n",
              "    [theme=dark] .colab-df-convert {\n",
              "      background-color: #3B4455;\n",
              "      fill: #D2E3FC;\n",
              "    }\n",
              "\n",
              "    [theme=dark] .colab-df-convert:hover {\n",
              "      background-color: #434B5C;\n",
              "      box-shadow: 0px 1px 3px 1px rgba(0, 0, 0, 0.15);\n",
              "      filter: drop-shadow(0px 1px 2px rgba(0, 0, 0, 0.3));\n",
              "      fill: #FFFFFF;\n",
              "    }\n",
              "  </style>\n",
              "\n",
              "      <script>\n",
              "        const buttonEl =\n",
              "          document.querySelector('#df-6f7d4b5f-df3a-4f39-a55b-898cfa8c6ad1 button.colab-df-convert');\n",
              "        buttonEl.style.display =\n",
              "          google.colab.kernel.accessAllowed ? 'block' : 'none';\n",
              "\n",
              "        async function convertToInteractive(key) {\n",
              "          const element = document.querySelector('#df-6f7d4b5f-df3a-4f39-a55b-898cfa8c6ad1');\n",
              "          const dataTable =\n",
              "            await google.colab.kernel.invokeFunction('convertToInteractive',\n",
              "                                                     [key], {});\n",
              "          if (!dataTable) return;\n",
              "\n",
              "          const docLinkHtml = 'Like what you see? Visit the ' +\n",
              "            '<a target=\"_blank\" href=https://colab.research.google.com/notebooks/data_table.ipynb>data table notebook</a>'\n",
              "            + ' to learn more about interactive tables.';\n",
              "          element.innerHTML = '';\n",
              "          dataTable['output_type'] = 'display_data';\n",
              "          await google.colab.output.renderOutput(dataTable, element);\n",
              "          const docLink = document.createElement('div');\n",
              "          docLink.innerHTML = docLinkHtml;\n",
              "          element.appendChild(docLink);\n",
              "        }\n",
              "      </script>\n",
              "    </div>\n",
              "  </div>\n",
              "  "
            ]
          },
          "metadata": {},
          "execution_count": 22
        }
      ],
      "source": [
        "import pandas as pd\n",
        "\n",
        "\n",
        "hepatitis = pd.read_csv('https://archive.ics.uci.edu/ml/machine-learning-databases/hepatitis/hepatitis.data')\n",
        "hepatitis.columns = ['CLASS', 'AGE', 'SEX', 'STEROID', 'ANTIVIRALS', 'FATIGUE', 'MALAISE', 'ANOREXIA', 'LIVER BIG', 'LIVER FARM', 'SPLEEN PALPABLE', 'SPIDERS', 'ASCITES', \n",
        "                     'VARICES', 'BILIRUBIN', 'ALK PHOSPHATE', 'SGOT', 'ALBUMIN', 'PROTIME', 'HISTOLOGY']\n",
        "clean_hepatitis = hepatitis[~hepatitis.eq('?').any(1)]\n",
        "clean_hepatitis.head()"
      ]
    },
    {
      "cell_type": "markdown",
      "source": [
        "Loading and cleaning Messidor dataset"
      ],
      "metadata": {
        "id": "fP67x3xVtFtd"
      }
    },
    {
      "cell_type": "code",
      "source": [
        "from scipy.io import arff\n",
        "import urllib.request\n",
        "from io import StringIO\n",
        "\n",
        "dataset_url = 'https://archive.ics.uci.edu/ml/machine-learning-databases/00329/messidor_features.arff'\n",
        "response = urllib.request.urlopen(dataset_url)\n",
        "dataset, meta = arff.loadarff(StringIO(response.read().decode()))\n",
        "messidor = pd.DataFrame(dataset)\n",
        "\n",
        "messidor.columns = [\"QUALITY\", \"PRE-SCREENING\", \"MA-2\", \"MA-3\", \"MA-4\", \"MA-5\", \"MA-6\", \"MA-7\",\n",
        "         \"EXUDATES-8\", \"EXUDATES-9\", \"EXUDATES-10\", \"EXUDATES-11\", \"EXUDATES-12\",\n",
        "         \"EXUDATES-13\", \"EXUDATES-14\", \"EXUDATES-15\", \"EUCLIDEAN DISTANCE\", \"DIAMETER OF OPTIC DISC\",\n",
        "         \"AM/FM\", \"CLASS\"]\n",
        "for c in messidor.columns:\n",
        "    #Modifying data (Object -> int)\n",
        "    if messidor[c].dtype == 'object':\n",
        "        messidor[c] = messidor[c].str.decode('UTF-8').astype('int')\n",
        "\n",
        "#Getting rid of rows with missing data\n",
        "clean_messidor = messidor[~messidor.eq('?').any(1)]\n",
        "\n",
        "clean_messidor.head()"
      ],
      "metadata": {
        "colab": {
          "base_uri": "https://localhost:8080/",
          "height": 305
        },
        "id": "8ICPzcSYseHb",
        "outputId": "bae9a2d1-079b-4001-8a01-bb6c547cc885"
      },
      "execution_count": null,
      "outputs": [
        {
          "output_type": "execute_result",
          "data": {
            "text/plain": [
              "   QUALITY  PRE-SCREENING  MA-2  MA-3  MA-4  MA-5  MA-6  MA-7  EXUDATES-8  \\\n",
              "0      1.0            1.0  22.0  22.0  22.0  19.0  18.0  14.0   49.895756   \n",
              "1      1.0            1.0  24.0  24.0  22.0  18.0  16.0  13.0   57.709936   \n",
              "2      1.0            1.0  62.0  60.0  59.0  54.0  47.0  33.0   55.831441   \n",
              "3      1.0            1.0  55.0  53.0  53.0  50.0  43.0  31.0   40.467228   \n",
              "4      1.0            1.0  44.0  44.0  44.0  41.0  39.0  27.0   18.026254   \n",
              "\n",
              "   EXUDATES-9  EXUDATES-10  EXUDATES-11  EXUDATES-12  EXUDATES-13  \\\n",
              "0   17.775994     5.270920     0.771761     0.018632     0.006864   \n",
              "1   23.799994     3.325423     0.234185     0.003903     0.003903   \n",
              "2   27.993933    12.687485     4.852282     1.393889     0.373252   \n",
              "3   18.445954     9.118901     3.079428     0.840261     0.272434   \n",
              "4    8.570709     0.410381     0.000000     0.000000     0.000000   \n",
              "\n",
              "   EXUDATES-14  EXUDATES-15  EUCLIDEAN DISTANCE  DIAMETER OF OPTIC DISC  \\\n",
              "0     0.003923     0.003923            0.486903                0.100025   \n",
              "1     0.003903     0.003903            0.520908                0.144414   \n",
              "2     0.041817     0.007744            0.530904                0.128548   \n",
              "3     0.007653     0.001531            0.483284                0.114790   \n",
              "4     0.000000     0.000000            0.475935                0.123572   \n",
              "\n",
              "   AM/FM  CLASS  \n",
              "0    1.0      0  \n",
              "1    0.0      0  \n",
              "2    0.0      1  \n",
              "3    0.0      0  \n",
              "4    0.0      1  "
            ],
            "text/html": [
              "\n",
              "  <div id=\"df-5622a2e5-d357-4d51-823d-a73e08812ac0\">\n",
              "    <div class=\"colab-df-container\">\n",
              "      <div>\n",
              "<style scoped>\n",
              "    .dataframe tbody tr th:only-of-type {\n",
              "        vertical-align: middle;\n",
              "    }\n",
              "\n",
              "    .dataframe tbody tr th {\n",
              "        vertical-align: top;\n",
              "    }\n",
              "\n",
              "    .dataframe thead th {\n",
              "        text-align: right;\n",
              "    }\n",
              "</style>\n",
              "<table border=\"1\" class=\"dataframe\">\n",
              "  <thead>\n",
              "    <tr style=\"text-align: right;\">\n",
              "      <th></th>\n",
              "      <th>QUALITY</th>\n",
              "      <th>PRE-SCREENING</th>\n",
              "      <th>MA-2</th>\n",
              "      <th>MA-3</th>\n",
              "      <th>MA-4</th>\n",
              "      <th>MA-5</th>\n",
              "      <th>MA-6</th>\n",
              "      <th>MA-7</th>\n",
              "      <th>EXUDATES-8</th>\n",
              "      <th>EXUDATES-9</th>\n",
              "      <th>EXUDATES-10</th>\n",
              "      <th>EXUDATES-11</th>\n",
              "      <th>EXUDATES-12</th>\n",
              "      <th>EXUDATES-13</th>\n",
              "      <th>EXUDATES-14</th>\n",
              "      <th>EXUDATES-15</th>\n",
              "      <th>EUCLIDEAN DISTANCE</th>\n",
              "      <th>DIAMETER OF OPTIC DISC</th>\n",
              "      <th>AM/FM</th>\n",
              "      <th>CLASS</th>\n",
              "    </tr>\n",
              "  </thead>\n",
              "  <tbody>\n",
              "    <tr>\n",
              "      <th>0</th>\n",
              "      <td>1.0</td>\n",
              "      <td>1.0</td>\n",
              "      <td>22.0</td>\n",
              "      <td>22.0</td>\n",
              "      <td>22.0</td>\n",
              "      <td>19.0</td>\n",
              "      <td>18.0</td>\n",
              "      <td>14.0</td>\n",
              "      <td>49.895756</td>\n",
              "      <td>17.775994</td>\n",
              "      <td>5.270920</td>\n",
              "      <td>0.771761</td>\n",
              "      <td>0.018632</td>\n",
              "      <td>0.006864</td>\n",
              "      <td>0.003923</td>\n",
              "      <td>0.003923</td>\n",
              "      <td>0.486903</td>\n",
              "      <td>0.100025</td>\n",
              "      <td>1.0</td>\n",
              "      <td>0</td>\n",
              "    </tr>\n",
              "    <tr>\n",
              "      <th>1</th>\n",
              "      <td>1.0</td>\n",
              "      <td>1.0</td>\n",
              "      <td>24.0</td>\n",
              "      <td>24.0</td>\n",
              "      <td>22.0</td>\n",
              "      <td>18.0</td>\n",
              "      <td>16.0</td>\n",
              "      <td>13.0</td>\n",
              "      <td>57.709936</td>\n",
              "      <td>23.799994</td>\n",
              "      <td>3.325423</td>\n",
              "      <td>0.234185</td>\n",
              "      <td>0.003903</td>\n",
              "      <td>0.003903</td>\n",
              "      <td>0.003903</td>\n",
              "      <td>0.003903</td>\n",
              "      <td>0.520908</td>\n",
              "      <td>0.144414</td>\n",
              "      <td>0.0</td>\n",
              "      <td>0</td>\n",
              "    </tr>\n",
              "    <tr>\n",
              "      <th>2</th>\n",
              "      <td>1.0</td>\n",
              "      <td>1.0</td>\n",
              "      <td>62.0</td>\n",
              "      <td>60.0</td>\n",
              "      <td>59.0</td>\n",
              "      <td>54.0</td>\n",
              "      <td>47.0</td>\n",
              "      <td>33.0</td>\n",
              "      <td>55.831441</td>\n",
              "      <td>27.993933</td>\n",
              "      <td>12.687485</td>\n",
              "      <td>4.852282</td>\n",
              "      <td>1.393889</td>\n",
              "      <td>0.373252</td>\n",
              "      <td>0.041817</td>\n",
              "      <td>0.007744</td>\n",
              "      <td>0.530904</td>\n",
              "      <td>0.128548</td>\n",
              "      <td>0.0</td>\n",
              "      <td>1</td>\n",
              "    </tr>\n",
              "    <tr>\n",
              "      <th>3</th>\n",
              "      <td>1.0</td>\n",
              "      <td>1.0</td>\n",
              "      <td>55.0</td>\n",
              "      <td>53.0</td>\n",
              "      <td>53.0</td>\n",
              "      <td>50.0</td>\n",
              "      <td>43.0</td>\n",
              "      <td>31.0</td>\n",
              "      <td>40.467228</td>\n",
              "      <td>18.445954</td>\n",
              "      <td>9.118901</td>\n",
              "      <td>3.079428</td>\n",
              "      <td>0.840261</td>\n",
              "      <td>0.272434</td>\n",
              "      <td>0.007653</td>\n",
              "      <td>0.001531</td>\n",
              "      <td>0.483284</td>\n",
              "      <td>0.114790</td>\n",
              "      <td>0.0</td>\n",
              "      <td>0</td>\n",
              "    </tr>\n",
              "    <tr>\n",
              "      <th>4</th>\n",
              "      <td>1.0</td>\n",
              "      <td>1.0</td>\n",
              "      <td>44.0</td>\n",
              "      <td>44.0</td>\n",
              "      <td>44.0</td>\n",
              "      <td>41.0</td>\n",
              "      <td>39.0</td>\n",
              "      <td>27.0</td>\n",
              "      <td>18.026254</td>\n",
              "      <td>8.570709</td>\n",
              "      <td>0.410381</td>\n",
              "      <td>0.000000</td>\n",
              "      <td>0.000000</td>\n",
              "      <td>0.000000</td>\n",
              "      <td>0.000000</td>\n",
              "      <td>0.000000</td>\n",
              "      <td>0.475935</td>\n",
              "      <td>0.123572</td>\n",
              "      <td>0.0</td>\n",
              "      <td>1</td>\n",
              "    </tr>\n",
              "  </tbody>\n",
              "</table>\n",
              "</div>\n",
              "      <button class=\"colab-df-convert\" onclick=\"convertToInteractive('df-5622a2e5-d357-4d51-823d-a73e08812ac0')\"\n",
              "              title=\"Convert this dataframe to an interactive table.\"\n",
              "              style=\"display:none;\">\n",
              "        \n",
              "  <svg xmlns=\"http://www.w3.org/2000/svg\" height=\"24px\"viewBox=\"0 0 24 24\"\n",
              "       width=\"24px\">\n",
              "    <path d=\"M0 0h24v24H0V0z\" fill=\"none\"/>\n",
              "    <path d=\"M18.56 5.44l.94 2.06.94-2.06 2.06-.94-2.06-.94-.94-2.06-.94 2.06-2.06.94zm-11 1L8.5 8.5l.94-2.06 2.06-.94-2.06-.94L8.5 2.5l-.94 2.06-2.06.94zm10 10l.94 2.06.94-2.06 2.06-.94-2.06-.94-.94-2.06-.94 2.06-2.06.94z\"/><path d=\"M17.41 7.96l-1.37-1.37c-.4-.4-.92-.59-1.43-.59-.52 0-1.04.2-1.43.59L10.3 9.45l-7.72 7.72c-.78.78-.78 2.05 0 2.83L4 21.41c.39.39.9.59 1.41.59.51 0 1.02-.2 1.41-.59l7.78-7.78 2.81-2.81c.8-.78.8-2.07 0-2.86zM5.41 20L4 18.59l7.72-7.72 1.47 1.35L5.41 20z\"/>\n",
              "  </svg>\n",
              "      </button>\n",
              "      \n",
              "  <style>\n",
              "    .colab-df-container {\n",
              "      display:flex;\n",
              "      flex-wrap:wrap;\n",
              "      gap: 12px;\n",
              "    }\n",
              "\n",
              "    .colab-df-convert {\n",
              "      background-color: #E8F0FE;\n",
              "      border: none;\n",
              "      border-radius: 50%;\n",
              "      cursor: pointer;\n",
              "      display: none;\n",
              "      fill: #1967D2;\n",
              "      height: 32px;\n",
              "      padding: 0 0 0 0;\n",
              "      width: 32px;\n",
              "    }\n",
              "\n",
              "    .colab-df-convert:hover {\n",
              "      background-color: #E2EBFA;\n",
              "      box-shadow: 0px 1px 2px rgba(60, 64, 67, 0.3), 0px 1px 3px 1px rgba(60, 64, 67, 0.15);\n",
              "      fill: #174EA6;\n",
              "    }\n",
              "\n",
              "    [theme=dark] .colab-df-convert {\n",
              "      background-color: #3B4455;\n",
              "      fill: #D2E3FC;\n",
              "    }\n",
              "\n",
              "    [theme=dark] .colab-df-convert:hover {\n",
              "      background-color: #434B5C;\n",
              "      box-shadow: 0px 1px 3px 1px rgba(0, 0, 0, 0.15);\n",
              "      filter: drop-shadow(0px 1px 2px rgba(0, 0, 0, 0.3));\n",
              "      fill: #FFFFFF;\n",
              "    }\n",
              "  </style>\n",
              "\n",
              "      <script>\n",
              "        const buttonEl =\n",
              "          document.querySelector('#df-5622a2e5-d357-4d51-823d-a73e08812ac0 button.colab-df-convert');\n",
              "        buttonEl.style.display =\n",
              "          google.colab.kernel.accessAllowed ? 'block' : 'none';\n",
              "\n",
              "        async function convertToInteractive(key) {\n",
              "          const element = document.querySelector('#df-5622a2e5-d357-4d51-823d-a73e08812ac0');\n",
              "          const dataTable =\n",
              "            await google.colab.kernel.invokeFunction('convertToInteractive',\n",
              "                                                     [key], {});\n",
              "          if (!dataTable) return;\n",
              "\n",
              "          const docLinkHtml = 'Like what you see? Visit the ' +\n",
              "            '<a target=\"_blank\" href=https://colab.research.google.com/notebooks/data_table.ipynb>data table notebook</a>'\n",
              "            + ' to learn more about interactive tables.';\n",
              "          element.innerHTML = '';\n",
              "          dataTable['output_type'] = 'display_data';\n",
              "          await google.colab.output.renderOutput(dataTable, element);\n",
              "          const docLink = document.createElement('div');\n",
              "          docLink.innerHTML = docLinkHtml;\n",
              "          element.appendChild(docLink);\n",
              "        }\n",
              "      </script>\n",
              "    </div>\n",
              "  </div>\n",
              "  "
            ]
          },
          "metadata": {},
          "execution_count": 23
        }
      ]
    },
    {
      "cell_type": "code",
      "source": [
        "clean_hepatitis[\"CLASS\"].hist()"
      ],
      "metadata": {
        "colab": {
          "base_uri": "https://localhost:8080/",
          "height": 286
        },
        "id": "9r6ZRreTteJy",
        "outputId": "ba86eed8-b8f0-4b73-d3fa-d9430ff604ec"
      },
      "execution_count": null,
      "outputs": [
        {
          "output_type": "execute_result",
          "data": {
            "text/plain": [
              "<matplotlib.axes._subplots.AxesSubplot at 0x7f843fd33d50>"
            ]
          },
          "metadata": {},
          "execution_count": 24
        },
        {
          "output_type": "display_data",
          "data": {
            "text/plain": [
              "<Figure size 432x288 with 1 Axes>"
            ],
            "image/png": "[encoded data removed]"
          },
          "metadata": {
            "needs_background": "light"
          }
        }
      ]
    },
    {
      "cell_type": "code",
      "source": [
        "clean_messidor[\"CLASS\"].hist()"
      ],
      "metadata": {
        "colab": {
          "base_uri": "https://localhost:8080/",
          "height": 283
        },
        "id": "D9HLEkTsurmO",
        "outputId": "1094dd4d-4f7b-4740-89c0-5fdd90987a23"
      },
      "execution_count": null,
      "outputs": [
        {
          "output_type": "execute_result",
          "data": {
            "text/plain": [
              "<matplotlib.axes._subplots.AxesSubplot at 0x7f8430a7a350>"
            ]
          },
          "metadata": {},
          "execution_count": 25
        },
        {
          "output_type": "display_data",
          "data": {
            "text/plain": [
              "<Figure size 432x288 with 1 Axes>"
            ],
            "image/png": "[encoded data removed]"
          },
          "metadata": {
            "needs_background": "light"
          }
        }
      ]
    },
    {
      "cell_type": "markdown",
      "source": [
        "Class Distribution: 2 = Live and 1 = Die"
      ],
      "metadata": {
        "id": "CY531sL-k4-6"
      }
    },
    {
      "cell_type": "code",
      "source": [
        "clean_hepatitis['CLASS'].value_counts()"
      ],
      "metadata": {
        "colab": {
          "base_uri": "https://localhost:8080/"
        },
        "id": "pHUtnajEBIGu",
        "outputId": "55a769bb-9fbe-4d67-8f56-0d1bf6b65b39"
      },
      "execution_count": null,
      "outputs": [
        {
          "output_type": "execute_result",
          "data": {
            "text/plain": [
              "2    67\n",
              "1    13\n",
              "Name: CLASS, dtype: int64"
            ]
          },
          "metadata": {},
          "execution_count": 26
        }
      ]
    },
    {
      "cell_type": "markdown",
      "source": [
        "Class distribution for Messidor: 1 = contains signs of DR  0 = no signs of DR."
      ],
      "metadata": {
        "id": "e1_bzx3GlDAX"
      }
    },
    {
      "cell_type": "code",
      "source": [
        "clean_messidor['CLASS'].value_counts()"
      ],
      "metadata": {
        "colab": {
          "base_uri": "https://localhost:8080/"
        },
        "id": "addOBLEAJYSO",
        "outputId": "8ce5b055-c146-4206-f02b-d633226c7e7f"
      },
      "execution_count": null,
      "outputs": [
        {
          "output_type": "execute_result",
          "data": {
            "text/plain": [
              "1    611\n",
              "0    540\n",
              "Name: CLASS, dtype: int64"
            ]
          },
          "metadata": {},
          "execution_count": 27
        }
      ]
    },
    {
      "cell_type": "markdown",
      "source": [
        "Plot of age distribution for dead or alive"
      ],
      "metadata": {
        "id": "-jsRjWfQlImh"
      }
    },
    {
      "cell_type": "code",
      "source": [
        "clean_hepatitis.groupby('CLASS').AGE.plot(kind='kde')"
      ],
      "metadata": {
        "colab": {
          "base_uri": "https://localhost:8080/",
          "height": 336
        },
        "id": "mqy9PO5XMCpl",
        "outputId": "e7b94479-f217-4492-a4bd-86ded26730f5"
      },
      "execution_count": null,
      "outputs": [
        {
          "output_type": "execute_result",
          "data": {
            "text/plain": [
              "CLASS\n",
              "1    AxesSubplot(0.125,0.125;0.775x0.755)\n",
              "2    AxesSubplot(0.125,0.125;0.775x0.755)\n",
              "Name: AGE, dtype: object"
            ]
          },
          "metadata": {},
          "execution_count": 28
        },
        {
          "output_type": "display_data",
          "data": {
            "text/plain": [
              "<Figure size 432x288 with 1 Axes>"
            ],
            "image/png": "[encoded data removed]"
          },
          "metadata": {
            "needs_background": "light"
          }
        }
      ]
    },
    {
      "cell_type": "code",
      "source": [
        "df = clean_messidor.rename(columns={'EUCLIDEAN DISTANCE':'euclidean_distance','MA-2':'MA_2','MA-4':'MA_4','EXUDATES-8':'EXUDATES_8','DIAMETER OF OPTIC DISC':'DIAMETER'})"
      ],
      "metadata": {
        "id": "b6Cs8TONOJiM"
      },
      "execution_count": null,
      "outputs": []
    },
    {
      "cell_type": "markdown",
      "source": [
        "Plot of Euclidean distance distibution for patients with DR and no DR"
      ],
      "metadata": {
        "id": "ciSSRHNHlVSz"
      }
    },
    {
      "cell_type": "code",
      "source": [
        "df.groupby('CLASS').euclidean_distance.plot(kind='kde')"
      ],
      "metadata": {
        "colab": {
          "base_uri": "https://localhost:8080/",
          "height": 339
        },
        "id": "avmYCdQzMZfx",
        "outputId": "0511ea60-a4f4-4914-8ed6-2334fab341fd"
      },
      "execution_count": null,
      "outputs": [
        {
          "output_type": "execute_result",
          "data": {
            "text/plain": [
              "CLASS\n",
              "0    AxesSubplot(0.125,0.125;0.775x0.755)\n",
              "1    AxesSubplot(0.125,0.125;0.775x0.755)\n",
              "Name: euclidean_distance, dtype: object"
            ]
          },
          "metadata": {},
          "execution_count": 30
        },
        {
          "output_type": "display_data",
          "data": {
            "text/plain": [
              "<Figure size 432x288 with 1 Axes>"
            ],
            "image/png": "[encoded data removed]"
          },
          "metadata": {
            "needs_background": "light"
          }
        }
      ]
    },
    {
      "cell_type": "markdown",
      "source": [
        " Plot of MA-2 distibution for patients with DR and no DR"
      ],
      "metadata": {
        "id": "4OIvYzikU43D"
      }
    },
    {
      "cell_type": "code",
      "source": [
        "df.groupby('CLASS').MA_2.plot(kind='kde')"
      ],
      "metadata": {
        "colab": {
          "base_uri": "https://localhost:8080/",
          "height": 334
        },
        "id": "1225FOEHVp4y",
        "outputId": "2e89ad66-23e0-45c5-df92-cc90505dbcd1"
      },
      "execution_count": null,
      "outputs": [
        {
          "output_type": "execute_result",
          "data": {
            "text/plain": [
              "CLASS\n",
              "0    AxesSubplot(0.125,0.125;0.775x0.755)\n",
              "1    AxesSubplot(0.125,0.125;0.775x0.755)\n",
              "Name: MA_2, dtype: object"
            ]
          },
          "metadata": {},
          "execution_count": 18
        },
        {
          "output_type": "display_data",
          "data": {
            "text/plain": [
              "<Figure size 432x288 with 1 Axes>"
            ],
            "image/png": "[encoded data removed]"
          },
          "metadata": {
            "needs_background": "light"
          }
        }
      ]
    },
    {
      "cell_type": "markdown",
      "source": [
        "Plot of MA-4 distibution for patients with DR and no DR"
      ],
      "metadata": {
        "id": "SENO1360Vhwj"
      }
    },
    {
      "cell_type": "code",
      "source": [
        "df.groupby('CLASS').MA_4.plot(kind='kde')"
      ],
      "metadata": {
        "colab": {
          "base_uri": "https://localhost:8080/",
          "height": 334
        },
        "id": "uf3dW46sVujM",
        "outputId": "64135699-7dd2-44cb-bad8-5c3f5ad690b8"
      },
      "execution_count": null,
      "outputs": [
        {
          "output_type": "execute_result",
          "data": {
            "text/plain": [
              "CLASS\n",
              "0    AxesSubplot(0.125,0.125;0.775x0.755)\n",
              "1    AxesSubplot(0.125,0.125;0.775x0.755)\n",
              "Name: MA_4, dtype: object"
            ]
          },
          "metadata": {},
          "execution_count": 15
        },
        {
          "output_type": "display_data",
          "data": {
            "text/plain": [
              "<Figure size 432x288 with 1 Axes>"
            ],
            "image/png": "[encoded data removed]"
          },
          "metadata": {
            "needs_background": "light"
          }
        }
      ]
    },
    {
      "cell_type": "markdown",
      "source": [
        "Plot of EXUDATES-8 distibution for patients with DR and no DR"
      ],
      "metadata": {
        "id": "ZvHz3af7Vjtd"
      }
    },
    {
      "cell_type": "code",
      "source": [
        "df.groupby('CLASS').EXUDATES_8.plot(kind='kde')"
      ],
      "metadata": {
        "colab": {
          "base_uri": "https://localhost:8080/",
          "height": 334
        },
        "id": "dTBkT1xBVxy7",
        "outputId": "f1156ade-7535-4c18-f1aa-9e97ef3287a0"
      },
      "execution_count": null,
      "outputs": [
        {
          "output_type": "execute_result",
          "data": {
            "text/plain": [
              "CLASS\n",
              "0    AxesSubplot(0.125,0.125;0.775x0.755)\n",
              "1    AxesSubplot(0.125,0.125;0.775x0.755)\n",
              "Name: EXUDATES_8, dtype: object"
            ]
          },
          "metadata": {},
          "execution_count": 16
        },
        {
          "output_type": "display_data",
          "data": {
            "text/plain": [
              "<Figure size 432x288 with 1 Axes>"
            ],
            "image/png": "[encoded data removed]"
          },
          "metadata": {
            "needs_background": "light"
          }
        }
      ]
    },
    {
      "cell_type": "code",
      "source": [
        "df.groupby('CLASS').DIAMETER.plot(kind='kde')"
      ],
      "metadata": {
        "colab": {
          "base_uri": "https://localhost:8080/",
          "height": 334
        },
        "id": "4Acs6iKNV1Yg",
        "outputId": "ff071ee2-812f-4bba-f989-b5a7dc35b31b"
      },
      "execution_count": null,
      "outputs": [
        {
          "output_type": "execute_result",
          "data": {
            "text/plain": [
              "CLASS\n",
              "0    AxesSubplot(0.125,0.125;0.775x0.755)\n",
              "1    AxesSubplot(0.125,0.125;0.775x0.755)\n",
              "Name: DIAMETER, dtype: object"
            ]
          },
          "metadata": {},
          "execution_count": 17
        },
        {
          "output_type": "display_data",
          "data": {
            "text/plain": [
              "<Figure size 432x288 with 1 Axes>"
            ],
            "image/png": "[encoded data removed]"
          },
          "metadata": {
            "needs_background": "light"
          }
        }
      ]
    },
    {
      "cell_type": "markdown",
      "source": [
        "Basic Statistics for hepatitis dataset"
      ],
      "metadata": {
        "id": "pLHhe_2wlciT"
      }
    },
    {
      "cell_type": "code",
      "source": [
        "clean_hepatitis.describe()"
      ],
      "metadata": {
        "colab": {
          "base_uri": "https://localhost:8080/",
          "height": 300
        },
        "id": "rgaz_yRyPUSi",
        "outputId": "0eff10b7-8ddb-4f31-f14c-03d861eb7e86"
      },
      "execution_count": null,
      "outputs": [
        {
          "output_type": "execute_result",
          "data": {
            "text/plain": [
              "           CLASS       AGE        SEX  ANTIVIRALS  HISTOLOGY\n",
              "count  80.000000  80.00000  80.000000   80.000000   80.00000\n",
              "mean    1.837500  40.66250   1.137500    1.737500    1.41250\n",
              "std     0.371236  11.28003   0.346547    0.442769    0.49539\n",
              "min     1.000000  20.00000   1.000000    1.000000    1.00000\n",
              "25%     2.000000  32.00000   1.000000    1.000000    1.00000\n",
              "50%     2.000000  38.50000   1.000000    2.000000    1.00000\n",
              "75%     2.000000  49.25000   1.000000    2.000000    2.00000\n",
              "max     2.000000  72.00000   2.000000    2.000000    2.00000"
            ],
            "text/html": [
              "\n",
              "  <div id=\"df-15b6560d-03b4-4e7a-8184-ec168603401b\">\n",
              "    <div class=\"colab-df-container\">\n",
              "      <div>\n",
              "<style scoped>\n",
              "    .dataframe tbody tr th:only-of-type {\n",
              "        vertical-align: middle;\n",
              "    }\n",
              "\n",
              "    .dataframe tbody tr th {\n",
              "        vertical-align: top;\n",
              "    }\n",
              "\n",
              "    .dataframe thead th {\n",
              "        text-align: right;\n",
              "    }\n",
              "</style>\n",
              "<table border=\"1\" class=\"dataframe\">\n",
              "  <thead>\n",
              "    <tr style=\"text-align: right;\">\n",
              "      <th></th>\n",
              "      <th>CLASS</th>\n",
              "      <th>AGE</th>\n",
              "      <th>SEX</th>\n",
              "      <th>ANTIVIRALS</th>\n",
              "      <th>HISTOLOGY</th>\n",
              "    </tr>\n",
              "  </thead>\n",
              "  <tbody>\n",
              "    <tr>\n",
              "      <th>count</th>\n",
              "      <td>80.000000</td>\n",
              "      <td>80.00000</td>\n",
              "      <td>80.000000</td>\n",
              "      <td>80.000000</td>\n",
              "      <td>80.00000</td>\n",
              "    </tr>\n",
              "    <tr>\n",
              "      <th>mean</th>\n",
              "      <td>1.837500</td>\n",
              "      <td>40.66250</td>\n",
              "      <td>1.137500</td>\n",
              "      <td>1.737500</td>\n",
              "      <td>1.41250</td>\n",
              "    </tr>\n",
              "    <tr>\n",
              "      <th>std</th>\n",
              "      <td>0.371236</td>\n",
              "      <td>11.28003</td>\n",
              "      <td>0.346547</td>\n",
              "      <td>0.442769</td>\n",
              "      <td>0.49539</td>\n",
              "    </tr>\n",
              "    <tr>\n",
              "      <th>min</th>\n",
              "      <td>1.000000</td>\n",
              "      <td>20.00000</td>\n",
              "      <td>1.000000</td>\n",
              "      <td>1.000000</td>\n",
              "      <td>1.00000</td>\n",
              "    </tr>\n",
              "    <tr>\n",
              "      <th>25%</th>\n",
              "      <td>2.000000</td>\n",
              "      <td>32.00000</td>\n",
              "      <td>1.000000</td>\n",
              "      <td>1.000000</td>\n",
              "      <td>1.00000</td>\n",
              "    </tr>\n",
              "    <tr>\n",
              "      <th>50%</th>\n",
              "      <td>2.000000</td>\n",
              "      <td>38.50000</td>\n",
              "      <td>1.000000</td>\n",
              "      <td>2.000000</td>\n",
              "      <td>1.00000</td>\n",
              "    </tr>\n",
              "    <tr>\n",
              "      <th>75%</th>\n",
              "      <td>2.000000</td>\n",
              "      <td>49.25000</td>\n",
              "      <td>1.000000</td>\n",
              "      <td>2.000000</td>\n",
              "      <td>2.00000</td>\n",
              "    </tr>\n",
              "    <tr>\n",
              "      <th>max</th>\n",
              "      <td>2.000000</td>\n",
              "      <td>72.00000</td>\n",
              "      <td>2.000000</td>\n",
              "      <td>2.000000</td>\n",
              "      <td>2.00000</td>\n",
              "    </tr>\n",
              "  </tbody>\n",
              "</table>\n",
              "</div>\n",
              "      <button class=\"colab-df-convert\" onclick=\"convertToInteractive('df-15b6560d-03b4-4e7a-8184-ec168603401b')\"\n",
              "              title=\"Convert this dataframe to an interactive table.\"\n",
              "              style=\"display:none;\">\n",
              "        \n",
              "  <svg xmlns=\"http://www.w3.org/2000/svg\" height=\"24px\"viewBox=\"0 0 24 24\"\n",
              "       width=\"24px\">\n",
              "    <path d=\"M0 0h24v24H0V0z\" fill=\"none\"/>\n",
              "    <path d=\"M18.56 5.44l.94 2.06.94-2.06 2.06-.94-2.06-.94-.94-2.06-.94 2.06-2.06.94zm-11 1L8.5 8.5l.94-2.06 2.06-.94-2.06-.94L8.5 2.5l-.94 2.06-2.06.94zm10 10l.94 2.06.94-2.06 2.06-.94-2.06-.94-.94-2.06-.94 2.06-2.06.94z\"/><path d=\"M17.41 7.96l-1.37-1.37c-.4-.4-.92-.59-1.43-.59-.52 0-1.04.2-1.43.59L10.3 9.45l-7.72 7.72c-.78.78-.78 2.05 0 2.83L4 21.41c.39.39.9.59 1.41.59.51 0 1.02-.2 1.41-.59l7.78-7.78 2.81-2.81c.8-.78.8-2.07 0-2.86zM5.41 20L4 18.59l7.72-7.72 1.47 1.35L5.41 20z\"/>\n",
              "  </svg>\n",
              "      </button>\n",
              "      \n",
              "  <style>\n",
              "    .colab-df-container {\n",
              "      display:flex;\n",
              "      flex-wrap:wrap;\n",
              "      gap: 12px;\n",
              "    }\n",
              "\n",
              "    .colab-df-convert {\n",
              "      background-color: #E8F0FE;\n",
              "      border: none;\n",
              "      border-radius: 50%;\n",
              "      cursor: pointer;\n",
              "      display: none;\n",
              "      fill: #1967D2;\n",
              "      height: 32px;\n",
              "      padding: 0 0 0 0;\n",
              "      width: 32px;\n",
              "    }\n",
              "\n",
              "    .colab-df-convert:hover {\n",
              "      background-color: #E2EBFA;\n",
              "      box-shadow: 0px 1px 2px rgba(60, 64, 67, 0.3), 0px 1px 3px 1px rgba(60, 64, 67, 0.15);\n",
              "      fill: #174EA6;\n",
              "    }\n",
              "\n",
              "    [theme=dark] .colab-df-convert {\n",
              "      background-color: #3B4455;\n",
              "      fill: #D2E3FC;\n",
              "    }\n",
              "\n",
              "    [theme=dark] .colab-df-convert:hover {\n",
              "      background-color: #434B5C;\n",
              "      box-shadow: 0px 1px 3px 1px rgba(0, 0, 0, 0.15);\n",
              "      filter: drop-shadow(0px 1px 2px rgba(0, 0, 0, 0.3));\n",
              "      fill: #FFFFFF;\n",
              "    }\n",
              "  </style>\n",
              "\n",
              "      <script>\n",
              "        const buttonEl =\n",
              "          document.querySelector('#df-15b6560d-03b4-4e7a-8184-ec168603401b button.colab-df-convert');\n",
              "        buttonEl.style.display =\n",
              "          google.colab.kernel.accessAllowed ? 'block' : 'none';\n",
              "\n",
              "        async function convertToInteractive(key) {\n",
              "          const element = document.querySelector('#df-15b6560d-03b4-4e7a-8184-ec168603401b');\n",
              "          const dataTable =\n",
              "            await google.colab.kernel.invokeFunction('convertToInteractive',\n",
              "                                                     [key], {});\n",
              "          if (!dataTable) return;\n",
              "\n",
              "          const docLinkHtml = 'Like what you see? Visit the ' +\n",
              "            '<a target=\"_blank\" href=https://colab.research.google.com/notebooks/data_table.ipynb>data table notebook</a>'\n",
              "            + ' to learn more about interactive tables.';\n",
              "          element.innerHTML = '';\n",
              "          dataTable['output_type'] = 'display_data';\n",
              "          await google.colab.output.renderOutput(dataTable, element);\n",
              "          const docLink = document.createElement('div');\n",
              "          docLink.innerHTML = docLinkHtml;\n",
              "          element.appendChild(docLink);\n",
              "        }\n",
              "      </script>\n",
              "    </div>\n",
              "  </div>\n",
              "  "
            ]
          },
          "metadata": {},
          "execution_count": 31
        }
      ]
    },
    {
      "cell_type": "markdown",
      "source": [
        "Basic statistics for messidor dataset"
      ],
      "metadata": {
        "id": "Ur1VK-qmlgd6"
      }
    },
    {
      "cell_type": "code",
      "source": [
        "clean_messidor.describe()"
      ],
      "metadata": {
        "colab": {
          "base_uri": "https://localhost:8080/",
          "height": 399
        },
        "id": "0f05jFFDPYyn",
        "outputId": "7acc7d48-aca0-4c86-dac7-0f19ad7a4d56"
      },
      "execution_count": null,
      "outputs": [
        {
          "output_type": "execute_result",
          "data": {
            "text/plain": [
              "           QUALITY  PRE-SCREENING         MA-2         MA-3         MA-4  \\\n",
              "count  1151.000000    1151.000000  1151.000000  1151.000000  1151.000000   \n",
              "mean      0.996525       0.918332    38.428323    36.909644    35.140747   \n",
              "std       0.058874       0.273977    25.620913    24.105612    22.805400   \n",
              "min       0.000000       0.000000     1.000000     1.000000     1.000000   \n",
              "25%       1.000000       1.000000    16.000000    16.000000    15.000000   \n",
              "50%       1.000000       1.000000    35.000000    35.000000    32.000000   \n",
              "75%       1.000000       1.000000    55.000000    53.000000    51.000000   \n",
              "max       1.000000       1.000000   151.000000   132.000000   120.000000   \n",
              "\n",
              "              MA-5         MA-6         MA-7   EXUDATES-8   EXUDATES-9  \\\n",
              "count  1151.000000  1151.000000  1151.000000  1151.000000  1151.000000   \n",
              "mean     32.297133    28.747176    21.151173    64.096674    23.088012   \n",
              "std      21.114767    19.509227    15.101560    58.485289    21.602696   \n",
              "min       1.000000     1.000000     1.000000     0.349274     0.000000   \n",
              "25%      14.000000    11.000000     8.000000    22.271597     7.939315   \n",
              "50%      29.000000    25.000000    18.000000    44.249119    17.038020   \n",
              "75%      48.000000    43.000000    32.000000    87.804112    31.305692   \n",
              "max     105.000000    97.000000    89.000000   403.939108   167.131427   \n",
              "\n",
              "       EXUDATES-10  EXUDATES-11  EXUDATES-12  EXUDATES-13  EXUDATES-14  \\\n",
              "count  1151.000000  1151.000000  1151.000000  1151.000000  1151.000000   \n",
              "mean      8.704610     1.836489     0.560738     0.212290     0.085674   \n",
              "std      11.567589     3.923224     2.484111     1.057126     0.398717   \n",
              "min       0.000000     0.000000     0.000000     0.000000     0.000000   \n",
              "25%       1.249050     0.081554     0.000000     0.000000     0.000000   \n",
              "50%       4.423472     0.484829     0.022248     0.001554     0.000000   \n",
              "75%      11.766880     1.921648     0.191953     0.038450     0.004832   \n",
              "max     106.070092    59.766121    51.423208    20.098605     5.937799   \n",
              "\n",
              "       EXUDATES-15  EUCLIDEAN DISTANCE  DIAMETER OF OPTIC DISC        AM/FM  \\\n",
              "count  1151.000000         1151.000000             1151.000000  1151.000000   \n",
              "mean      0.037225            0.523212                0.108431     0.336229   \n",
              "std       0.178959            0.028055                0.017945     0.472624   \n",
              "min       0.000000            0.367762                0.057906     0.000000   \n",
              "25%       0.000000            0.502855                0.095799     0.000000   \n",
              "50%       0.000000            0.523308                0.106623     0.000000   \n",
              "75%       0.003851            0.543670                0.119591     1.000000   \n",
              "max       3.086753            0.592217                0.219199     1.000000   \n",
              "\n",
              "             CLASS  \n",
              "count  1151.000000  \n",
              "mean      0.530843  \n",
              "std       0.499265  \n",
              "min       0.000000  \n",
              "25%       0.000000  \n",
              "50%       1.000000  \n",
              "75%       1.000000  \n",
              "max       1.000000  "
            ],
            "text/html": [
              "\n",
              "  <div id=\"df-72b0168b-1e1b-496e-a7d8-46471529dc81\">\n",
              "    <div class=\"colab-df-container\">\n",
              "      <div>\n",
              "<style scoped>\n",
              "    .dataframe tbody tr th:only-of-type {\n",
              "        vertical-align: middle;\n",
              "    }\n",
              "\n",
              "    .dataframe tbody tr th {\n",
              "        vertical-align: top;\n",
              "    }\n",
              "\n",
              "    .dataframe thead th {\n",
              "        text-align: right;\n",
              "    }\n",
              "</style>\n",
              "<table border=\"1\" class=\"dataframe\">\n",
              "  <thead>\n",
              "    <tr style=\"text-align: right;\">\n",
              "      <th></th>\n",
              "      <th>QUALITY</th>\n",
              "      <th>PRE-SCREENING</th>\n",
              "      <th>MA-2</th>\n",
              "      <th>MA-3</th>\n",
              "      <th>MA-4</th>\n",
              "      <th>MA-5</th>\n",
              "      <th>MA-6</th>\n",
              "      <th>MA-7</th>\n",
              "      <th>EXUDATES-8</th>\n",
              "      <th>EXUDATES-9</th>\n",
              "      <th>EXUDATES-10</th>\n",
              "      <th>EXUDATES-11</th>\n",
              "      <th>EXUDATES-12</th>\n",
              "      <th>EXUDATES-13</th>\n",
              "      <th>EXUDATES-14</th>\n",
              "      <th>EXUDATES-15</th>\n",
              "      <th>EUCLIDEAN DISTANCE</th>\n",
              "      <th>DIAMETER OF OPTIC DISC</th>\n",
              "      <th>AM/FM</th>\n",
              "      <th>CLASS</th>\n",
              "    </tr>\n",
              "  </thead>\n",
              "  <tbody>\n",
              "    <tr>\n",
              "      <th>count</th>\n",
              "      <td>1151.000000</td>\n",
              "      <td>1151.000000</td>\n",
              "      <td>1151.000000</td>\n",
              "      <td>1151.000000</td>\n",
              "      <td>1151.000000</td>\n",
              "      <td>1151.000000</td>\n",
              "      <td>1151.000000</td>\n",
              "      <td>1151.000000</td>\n",
              "      <td>1151.000000</td>\n",
              "      <td>1151.000000</td>\n",
              "      <td>1151.000000</td>\n",
              "      <td>1151.000000</td>\n",
              "      <td>1151.000000</td>\n",
              "      <td>1151.000000</td>\n",
              "      <td>1151.000000</td>\n",
              "      <td>1151.000000</td>\n",
              "      <td>1151.000000</td>\n",
              "      <td>1151.000000</td>\n",
              "      <td>1151.000000</td>\n",
              "      <td>1151.000000</td>\n",
              "    </tr>\n",
              "    <tr>\n",
              "      <th>mean</th>\n",
              "      <td>0.996525</td>\n",
              "      <td>0.918332</td>\n",
              "      <td>38.428323</td>\n",
              "      <td>36.909644</td>\n",
              "      <td>35.140747</td>\n",
              "      <td>32.297133</td>\n",
              "      <td>28.747176</td>\n",
              "      <td>21.151173</td>\n",
              "      <td>64.096674</td>\n",
              "      <td>23.088012</td>\n",
              "      <td>8.704610</td>\n",
              "      <td>1.836489</td>\n",
              "      <td>0.560738</td>\n",
              "      <td>0.212290</td>\n",
              "      <td>0.085674</td>\n",
              "      <td>0.037225</td>\n",
              "      <td>0.523212</td>\n",
              "      <td>0.108431</td>\n",
              "      <td>0.336229</td>\n",
              "      <td>0.530843</td>\n",
              "    </tr>\n",
              "    <tr>\n",
              "      <th>std</th>\n",
              "      <td>0.058874</td>\n",
              "      <td>0.273977</td>\n",
              "      <td>25.620913</td>\n",
              "      <td>24.105612</td>\n",
              "      <td>22.805400</td>\n",
              "      <td>21.114767</td>\n",
              "      <td>19.509227</td>\n",
              "      <td>15.101560</td>\n",
              "      <td>58.485289</td>\n",
              "      <td>21.602696</td>\n",
              "      <td>11.567589</td>\n",
              "      <td>3.923224</td>\n",
              "      <td>2.484111</td>\n",
              "      <td>1.057126</td>\n",
              "      <td>0.398717</td>\n",
              "      <td>0.178959</td>\n",
              "      <td>0.028055</td>\n",
              "      <td>0.017945</td>\n",
              "      <td>0.472624</td>\n",
              "      <td>0.499265</td>\n",
              "    </tr>\n",
              "    <tr>\n",
              "      <th>min</th>\n",
              "      <td>0.000000</td>\n",
              "      <td>0.000000</td>\n",
              "      <td>1.000000</td>\n",
              "      <td>1.000000</td>\n",
              "      <td>1.000000</td>\n",
              "      <td>1.000000</td>\n",
              "      <td>1.000000</td>\n",
              "      <td>1.000000</td>\n",
              "      <td>0.349274</td>\n",
              "      <td>0.000000</td>\n",
              "      <td>0.000000</td>\n",
              "      <td>0.000000</td>\n",
              "      <td>0.000000</td>\n",
              "      <td>0.000000</td>\n",
              "      <td>0.000000</td>\n",
              "      <td>0.000000</td>\n",
              "      <td>0.367762</td>\n",
              "      <td>0.057906</td>\n",
              "      <td>0.000000</td>\n",
              "      <td>0.000000</td>\n",
              "    </tr>\n",
              "    <tr>\n",
              "      <th>25%</th>\n",
              "      <td>1.000000</td>\n",
              "      <td>1.000000</td>\n",
              "      <td>16.000000</td>\n",
              "      <td>16.000000</td>\n",
              "      <td>15.000000</td>\n",
              "      <td>14.000000</td>\n",
              "      <td>11.000000</td>\n",
              "      <td>8.000000</td>\n",
              "      <td>22.271597</td>\n",
              "      <td>7.939315</td>\n",
              "      <td>1.249050</td>\n",
              "      <td>0.081554</td>\n",
              "      <td>0.000000</td>\n",
              "      <td>0.000000</td>\n",
              "      <td>0.000000</td>\n",
              "      <td>0.000000</td>\n",
              "      <td>0.502855</td>\n",
              "      <td>0.095799</td>\n",
              "      <td>0.000000</td>\n",
              "      <td>0.000000</td>\n",
              "    </tr>\n",
              "    <tr>\n",
              "      <th>50%</th>\n",
              "      <td>1.000000</td>\n",
              "      <td>1.000000</td>\n",
              "      <td>35.000000</td>\n",
              "      <td>35.000000</td>\n",
              "      <td>32.000000</td>\n",
              "      <td>29.000000</td>\n",
              "      <td>25.000000</td>\n",
              "      <td>18.000000</td>\n",
              "      <td>44.249119</td>\n",
              "      <td>17.038020</td>\n",
              "      <td>4.423472</td>\n",
              "      <td>0.484829</td>\n",
              "      <td>0.022248</td>\n",
              "      <td>0.001554</td>\n",
              "      <td>0.000000</td>\n",
              "      <td>0.000000</td>\n",
              "      <td>0.523308</td>\n",
              "      <td>0.106623</td>\n",
              "      <td>0.000000</td>\n",
              "      <td>1.000000</td>\n",
              "    </tr>\n",
              "    <tr>\n",
              "      <th>75%</th>\n",
              "      <td>1.000000</td>\n",
              "      <td>1.000000</td>\n",
              "      <td>55.000000</td>\n",
              "      <td>53.000000</td>\n",
              "      <td>51.000000</td>\n",
              "      <td>48.000000</td>\n",
              "      <td>43.000000</td>\n",
              "      <td>32.000000</td>\n",
              "      <td>87.804112</td>\n",
              "      <td>31.305692</td>\n",
              "      <td>11.766880</td>\n",
              "      <td>1.921648</td>\n",
              "      <td>0.191953</td>\n",
              "      <td>0.038450</td>\n",
              "      <td>0.004832</td>\n",
              "      <td>0.003851</td>\n",
              "      <td>0.543670</td>\n",
              "      <td>0.119591</td>\n",
              "      <td>1.000000</td>\n",
              "      <td>1.000000</td>\n",
              "    </tr>\n",
              "    <tr>\n",
              "      <th>max</th>\n",
              "      <td>1.000000</td>\n",
              "      <td>1.000000</td>\n",
              "      <td>151.000000</td>\n",
              "      <td>132.000000</td>\n",
              "      <td>120.000000</td>\n",
              "      <td>105.000000</td>\n",
              "      <td>97.000000</td>\n",
              "      <td>89.000000</td>\n",
              "      <td>403.939108</td>\n",
              "      <td>167.131427</td>\n",
              "      <td>106.070092</td>\n",
              "      <td>59.766121</td>\n",
              "      <td>51.423208</td>\n",
              "      <td>20.098605</td>\n",
              "      <td>5.937799</td>\n",
              "      <td>3.086753</td>\n",
              "      <td>0.592217</td>\n",
              "      <td>0.219199</td>\n",
              "      <td>1.000000</td>\n",
              "      <td>1.000000</td>\n",
              "    </tr>\n",
              "  </tbody>\n",
              "</table>\n",
              "</div>\n",
              "      <button class=\"colab-df-convert\" onclick=\"convertToInteractive('df-72b0168b-1e1b-496e-a7d8-46471529dc81')\"\n",
              "              title=\"Convert this dataframe to an interactive table.\"\n",
              "              style=\"display:none;\">\n",
              "        \n",
              "  <svg xmlns=\"http://www.w3.org/2000/svg\" height=\"24px\"viewBox=\"0 0 24 24\"\n",
              "       width=\"24px\">\n",
              "    <path d=\"M0 0h24v24H0V0z\" fill=\"none\"/>\n",
              "    <path d=\"M18.56 5.44l.94 2.06.94-2.06 2.06-.94-2.06-.94-.94-2.06-.94 2.06-2.06.94zm-11 1L8.5 8.5l.94-2.06 2.06-.94-2.06-.94L8.5 2.5l-.94 2.06-2.06.94zm10 10l.94 2.06.94-2.06 2.06-.94-2.06-.94-.94-2.06-.94 2.06-2.06.94z\"/><path d=\"M17.41 7.96l-1.37-1.37c-.4-.4-.92-.59-1.43-.59-.52 0-1.04.2-1.43.59L10.3 9.45l-7.72 7.72c-.78.78-.78 2.05 0 2.83L4 21.41c.39.39.9.59 1.41.59.51 0 1.02-.2 1.41-.59l7.78-7.78 2.81-2.81c.8-.78.8-2.07 0-2.86zM5.41 20L4 18.59l7.72-7.72 1.47 1.35L5.41 20z\"/>\n",
              "  </svg>\n",
              "      </button>\n",
              "      \n",
              "  <style>\n",
              "    .colab-df-container {\n",
              "      display:flex;\n",
              "      flex-wrap:wrap;\n",
              "      gap: 12px;\n",
              "    }\n",
              "\n",
              "    .colab-df-convert {\n",
              "      background-color: #E8F0FE;\n",
              "      border: none;\n",
              "      border-radius: 50%;\n",
              "      cursor: pointer;\n",
              "      display: none;\n",
              "      fill: #1967D2;\n",
              "      height: 32px;\n",
              "      padding: 0 0 0 0;\n",
              "      width: 32px;\n",
              "    }\n",
              "\n",
              "    .colab-df-convert:hover {\n",
              "      background-color: #E2EBFA;\n",
              "      box-shadow: 0px 1px 2px rgba(60, 64, 67, 0.3), 0px 1px 3px 1px rgba(60, 64, 67, 0.15);\n",
              "      fill: #174EA6;\n",
              "    }\n",
              "\n",
              "    [theme=dark] .colab-df-convert {\n",
              "      background-color: #3B4455;\n",
              "      fill: #D2E3FC;\n",
              "    }\n",
              "\n",
              "    [theme=dark] .colab-df-convert:hover {\n",
              "      background-color: #434B5C;\n",
              "      box-shadow: 0px 1px 3px 1px rgba(0, 0, 0, 0.15);\n",
              "      filter: drop-shadow(0px 1px 2px rgba(0, 0, 0, 0.3));\n",
              "      fill: #FFFFFF;\n",
              "    }\n",
              "  </style>\n",
              "\n",
              "      <script>\n",
              "        const buttonEl =\n",
              "          document.querySelector('#df-72b0168b-1e1b-496e-a7d8-46471529dc81 button.colab-df-convert');\n",
              "        buttonEl.style.display =\n",
              "          google.colab.kernel.accessAllowed ? 'block' : 'none';\n",
              "\n",
              "        async function convertToInteractive(key) {\n",
              "          const element = document.querySelector('#df-72b0168b-1e1b-496e-a7d8-46471529dc81');\n",
              "          const dataTable =\n",
              "            await google.colab.kernel.invokeFunction('convertToInteractive',\n",
              "                                                     [key], {});\n",
              "          if (!dataTable) return;\n",
              "\n",
              "          const docLinkHtml = 'Like what you see? Visit the ' +\n",
              "            '<a target=\"_blank\" href=https://colab.research.google.com/notebooks/data_table.ipynb>data table notebook</a>'\n",
              "            + ' to learn more about interactive tables.';\n",
              "          element.innerHTML = '';\n",
              "          dataTable['output_type'] = 'display_data';\n",
              "          await google.colab.output.renderOutput(dataTable, element);\n",
              "          const docLink = document.createElement('div');\n",
              "          docLink.innerHTML = docLinkHtml;\n",
              "          element.appendChild(docLink);\n",
              "        }\n",
              "      </script>\n",
              "    </div>\n",
              "  </div>\n",
              "  "
            ]
          },
          "metadata": {},
          "execution_count": 32
        }
      ]
    },
    {
      "cell_type": "markdown",
      "source": [
        "Split Hepatitis Dataset into training and testing sets"
      ],
      "metadata": {
        "id": "AmTdu6-V-c5_"
      }
    },
    {
      "cell_type": "code",
      "source": [
        "import numpy as np\n",
        "np.random.seed(7543)\n",
        "#Ensure all input values are numbers (e.g. not strings)\n",
        "numberize = np.vectorize(lambda x: float(x))\n",
        "\n",
        "x_hep, y_hep = clean_hepatitis.iloc[:, 1:], clean_hepatitis.iloc[:,0]\n",
        "\n",
        "x_hep_np = numberize(x_hep.to_numpy())\n",
        "y_hep_np = y_hep.to_numpy()\n",
        "\n",
        "inds_hep = np.random.permutation(x_hep_np.shape[0])\n",
        "\n",
        "x_hep_train, y_hep_train = x_hep_np[inds_hep[:53]], np.ndarray.flatten(y_hep_np[inds_hep[:53]])\n",
        "x_hep_test, y_hep_test = x_hep_np[inds_hep[53:]], np.ndarray.flatten(y_hep_np[inds_hep[53:]])"
      ],
      "metadata": {
        "id": "WIS92dMM-bd3"
      },
      "execution_count": null,
      "outputs": []
    },
    {
      "cell_type": "markdown",
      "source": [
        "Split Messidor dataset into training and testing sets"
      ],
      "metadata": {
        "id": "3lHElCWV-mVi"
      }
    },
    {
      "cell_type": "code",
      "source": [
        "x_mes, y_mes = clean_messidor.iloc[:, :-1], clean_messidor.iloc[:,-1]\n",
        "\n",
        "x_mes_np = numberize(x_mes.to_numpy())\n",
        "y_mes_np = y_mes.to_numpy()\n",
        "\n",
        "inds_mes = np.random.permutation(x_mes_np.shape[0])   \n",
        "\n",
        "x_mes_train, y_mes_train = x_mes_np[inds_mes[:767]], np.ndarray.flatten(y_mes_np[inds_mes[:767]])\n",
        "x_mes_test, y_mes_test = x_mes_np[inds_mes[767:]], np.ndarray.flatten(y_mes_np[inds_mes[767:]])"
      ],
      "metadata": {
        "id": "rxWB6idw-m_Z"
      },
      "execution_count": null,
      "outputs": []
    },
    {
      "cell_type": "markdown",
      "source": [
        "# Task 2"
      ],
      "metadata": {
        "id": "Z2cnIY9NjTvH"
      }
    },
    {
      "cell_type": "markdown",
      "source": [
        "Implement KNN"
      ],
      "metadata": {
        "id": "-VW71h04jaw8"
      }
    },
    {
      "cell_type": "code",
      "source": [
        "euclidean = lambda x1, x2: np.sqrt(np.sum((x1 - x2)**2, axis=-1))\n",
        "manhattan = lambda x1, x2: np.sum(np.abs(x1 - x2), axis=-1)\n",
        "\n",
        "class KNN:\n",
        "\n",
        "    def __init__(self, K=1, dist_fn= euclidean):\n",
        "        self.dist_fn = dist_fn\n",
        "        self.K = K\n",
        "        return\n",
        "    \n",
        "    #Training data on training dataset\n",
        "    def fit(self, x, y):\n",
        "        self.x = x\n",
        "        self.y = y\n",
        "        self.C = 3\n",
        "        return self\n",
        "\n",
        "\n",
        "    #Prediction based on test dataset\n",
        "    def predict(self, x_test):\n",
        "        num_test = x_test.shape[0]\n",
        "        distances = self.dist_fn(self.x[None,:,:], x_test[:,None,:])\n",
        "        knns = np.zeros((num_test, self.K), dtype=int)\n",
        "        y_prob = np.zeros((num_test, self.C))\n",
        "        for i in range(num_test):\n",
        "            knns[i,:] = np.argsort(distances[i])[:self.K]\n",
        "            y_prob[i,:] = np.bincount(self.y[knns[i,:]], minlength=self.C)\n",
        "        y_prob /= self.K\n",
        "        return y_prob, knns\n",
        "\n"
      ],
      "metadata": {
        "id": "LEA4WW77jaYl"
      },
      "execution_count": null,
      "outputs": []
    },
    {
      "cell_type": "code",
      "source": [
        "def evaluate_acc(y_pred, y_test):\n",
        "  return np.sum(y_pred == y_test)/y_test.shape[0]"
      ],
      "metadata": {
        "id": "N5GQA8Uqs_NC"
      },
      "execution_count": null,
      "outputs": []
    },
    {
      "cell_type": "markdown",
      "source": [
        "Node class for the decision tree: \\\\\n",
        "Note: copied this from his colab"
      ],
      "metadata": {
        "id": "41qvZtVGNizo"
      }
    },
    {
      "cell_type": "code",
      "source": [
        "class Node: \n",
        "  def __init__(self, data_indices, parent):\n",
        "    self.left = None\n",
        "    self.right = None\n",
        "    self.split_feature = None\n",
        "    self.split_value = None\n",
        "    self.data_indices = data_indices\n",
        "\n",
        "    if parent:\n",
        "      self.depth = parent.depth + 1\n",
        "      self.num_classes = parent.num_classes\n",
        "      self.data = parent.data\n",
        "      self.labels = parent.labels\n",
        "      class_prob = np.bincount(self.labels[data_indices], minlength=np.max(self.labels) + 1)\n",
        "      self.class_prob = class_prob / np.sum(class_prob)\n",
        "\n",
        "      #copied this from his colab. \n",
        "\n",
        "  def is_leaf(self):\n",
        "    return all([self.left, self.right])\n"
      ],
      "metadata": {
        "id": "53Vk7ZHFIHcM"
      },
      "execution_count": null,
      "outputs": []
    },
    {
      "cell_type": "markdown",
      "source": [
        "Cost functions: Gini, misclassification, entropy \\\\\n",
        "also pretty much copied from his colab, though there isn't much to change"
      ],
      "metadata": {
        "id": "175SWiQhN5JU"
      }
    },
    {
      "cell_type": "code",
      "source": [
        "def entropy_cost(labels):\n",
        "  class_probs = np.bincount(labels) / len(labels) #find the probabilities of all the classes\n",
        "  class_probs = class_probs[class_probs > 0]    \n",
        "  return -np.sum(class_probs * np.log2(class_probs))\n",
        "\n",
        "def gini_index_cost(labels):\n",
        "  class_probs = np.bincount(labels) / len(labels)\n",
        "  return 1 - np.sum(np.square(class_probs))\n",
        "\n",
        "def misclassification_cost(labels):\n",
        "  count = np.bincount(labels)\n",
        "  class_probs = count / np.sum(count)\n",
        "  return 1 - np.max(class_probs)\n"
      ],
      "metadata": {
        "id": "8bm7W3FpN-9V"
      },
      "execution_count": null,
      "outputs": []
    },
    {
      "cell_type": "markdown",
      "source": [
        "Greedy Heuristic"
      ],
      "metadata": {
        "id": "A3vT24UdlAtX"
      }
    },
    {
      "cell_type": "code",
      "source": [
        "def greedy_node(node, cost_function):\n",
        "  min_cost = np.inf\n",
        "  best_feature = None\n",
        "  best_thresh = None\n",
        "\n",
        "  num_features = np.shape(node.data)[1]\n",
        "\n",
        "  for feature in range(num_features):\n",
        "    #get and use features as set of possible thresholds\n",
        "    thresholds = node.data[:,feature]\n",
        "\n",
        "    for threshold in thresholds:\n",
        "      #perform split\n",
        "      data = node.data[node.data_indices, feature]\n",
        "\n",
        "      left_index = node.data_indices[data <= threshold]\n",
        "      right_index = node.data_indices[data > threshold]\n",
        "\n",
        "      #if all the data is in one side, there is no point adding another leaf node.\n",
        "      if(left_index.size == 0 or right_index.size == 0):\n",
        "        continue\n",
        "\n",
        "      #otherwise, calculate cost\n",
        "      cost_l = cost_function(node.labels[left_index])\n",
        "      cost_r = cost_function(node.labels[right_index])\n",
        "\n",
        "      num_l = left_index.size\n",
        "      num_r = right_index.size\n",
        "\n",
        "      cost = (num_l * cost_l + num_r * cost_r) / (np.shape(node.data)[0])\n",
        "\n",
        "      #update cost, feature and threshold if necessary\n",
        "      if cost < min_cost:\n",
        "        min_cost = cost\n",
        "        best_feature = feature\n",
        "        best_thresh = threshold\n",
        "  \n",
        "  return min_cost, best_feature, best_thresh\n",
        "\n",
        "    \n"
      ],
      "metadata": {
        "id": "Z1Fx91SQlAN-"
      },
      "execution_count": null,
      "outputs": []
    },
    {
      "cell_type": "markdown",
      "source": [
        "Implement DT:"
      ],
      "metadata": {
        "id": "5eaxhzhfmzCV"
      }
    },
    {
      "cell_type": "markdown",
      "source": [
        "# Task 3"
      ],
      "metadata": {
        "id": "CWMysIm2tfoo"
      }
    },
    {
      "cell_type": "markdown",
      "source": [
        "## Test Accuracy of DT\n"
      ],
      "metadata": {
        "id": "yjOvKZjrdd6S"
      }
    },
    {
      "cell_type": "markdown",
      "source": [
        "#### Compare different cost functions\n",
        "Misclassification cost"
      ],
      "metadata": {
        "id": "xs2eR1xkngW1"
      }
    },
    {
      "cell_type": "code",
      "source": [
        "\n",
        "#num_classes, max_depth = 3, min_leaf_instances = 1, cost_function=misclassification_cost\n",
        "model_hep = DT(3, cost_function=misclassification_cost)\n",
        "hep_probs_test = model_hep.fit(x_hep_train, y_hep_train).predict(x_hep_test)\n",
        "hep_y_pred = np.argmax(hep_probs_test, 1)\n",
        "hep_acc = np.sum(hep_y_pred == y_hep_test)/y_hep_test.shape[0]\n",
        "\n",
        "model_mes = DT(3)\n",
        "mes_probs_test = model_mes.fit(x_mes_train, y_mes_train).predict(x_mes_test)\n",
        "mes_y_pred = np.argmax(mes_probs_test, 1)\n",
        "mes_acc = np.sum(mes_y_pred == y_mes_test)/y_mes_test.shape[0]\n",
        "\n",
        "print(f\"The test accuracy of KNN on Hepatitis Dataset: {hep_acc}\")\n",
        "print(f\"The test accuracy of KNN on Messidor Dataset: {mes_acc}\")\n"
      ],
      "metadata": {
        "id": "RkkA87HtduvU",
        "colab": {
          "base_uri": "https://localhost:8080/"
        },
        "outputId": "126f770e-b612-4201-f3dc-c546623c2a90"
      },
      "execution_count": null,
      "outputs": [
        {
          "output_type": "stream",
          "name": "stdout",
          "text": [
            "The test accuracy of KNN on Hepatitis Dataset: 0.8518518518518519\n",
            "The test accuracy of KNN on Messidor Dataset: 0.6432291666666666\n"
          ]
        }
      ]
    },
    {
      "cell_type": "markdown",
      "source": [
        "Gini"
      ],
      "metadata": {
        "id": "Z1WQ08S9n6fv"
      }
    },
    {
      "cell_type": "code",
      "source": [
        "model_hep = DT(3, cost_function=gini_index_cost)\n",
        "hep_probs_test = model_hep.fit(x_hep_train, y_hep_train).predict(x_hep_test)\n",
        "hep_y_pred = np.argmax(hep_probs_test, 1)\n",
        "hep_acc = np.sum(hep_y_pred == y_hep_test)/y_hep_test.shape[0]\n",
        "\n",
        "model_mes = DT(3, cost_function=gini_index_cost)\n",
        "mes_probs_test = model_mes.fit(x_mes_train, y_mes_train).predict(x_mes_test)\n",
        "mes_y_pred = np.argmax(mes_probs_test, 1)\n",
        "mes_acc = np.sum(mes_y_pred == y_mes_test)/y_mes_test.shape[0]\n",
        "\n",
        "print(f\"The test accuracy of KNN on Hepatitis Dataset: {hep_acc}\")\n",
        "print(f\"The test accuracy of KNN on Messidor Dataset: {mes_acc}\")\n"
      ],
      "metadata": {
        "colab": {
          "base_uri": "https://localhost:8080/"
        },
        "id": "CyS39vJNnnK9",
        "outputId": "e8d4c368-f068-4d8d-c97a-f841b7b2493f"
      },
      "execution_count": null,
      "outputs": [
        {
          "output_type": "stream",
          "name": "stdout",
          "text": [
            "The test accuracy of KNN on Hepatitis Dataset: 0.8518518518518519\n",
            "The test accuracy of KNN on Messidor Dataset: 0.640625\n"
          ]
        }
      ]
    },
    {
      "cell_type": "markdown",
      "source": [
        "Entropy"
      ],
      "metadata": {
        "id": "MakSpDdToJry"
      }
    },
    {
      "cell_type": "code",
      "source": [
        "model_hep = DT(3, cost_function=entropy_cost)\n",
        "hep_probs_test = model_hep.fit(x_hep_train, y_hep_train).predict(x_hep_test)\n",
        "hep_y_pred = np.argmax(hep_probs_test, 1)\n",
        "hep_acc = np.sum(hep_y_pred == y_hep_test)/y_hep_test.shape[0]\n",
        "\n",
        "model_mes = DT(3, cost_function=entropy_cost)\n",
        "mes_probs_test = model_mes.fit(x_mes_train, y_mes_train).predict(x_mes_test)\n",
        "mes_y_pred = np.argmax(mes_probs_test, 1)\n",
        "mes_acc = np.sum(mes_y_pred == y_mes_test)/y_mes_test.shape[0]\n",
        "\n",
        "print(f\"The test accuracy of KNN on Hepatitis Dataset: {hep_acc}\")\n",
        "print(f\"The test accuracy of KNN on Messidor Dataset: {mes_acc}\")"
      ],
      "metadata": {
        "colab": {
          "base_uri": "https://localhost:8080/"
        },
        "id": "xnCxA-JkoLB8",
        "outputId": "68222b2d-8494-48a9-feaa-cbaabce37dbe"
      },
      "execution_count": null,
      "outputs": [
        {
          "output_type": "stream",
          "name": "stdout",
          "text": [
            "The test accuracy of KNN on Hepatitis Dataset: 0.8518518518518519\n",
            "The test accuracy of KNN on Messidor Dataset: 0.6328125\n"
          ]
        }
      ]
    },
    {
      "cell_type": "markdown",
      "source": [
        "Choosing best Tree Depth for DT\n"
      ],
      "metadata": {
        "id": "PNvENnjm7TBy"
      }
    },
    {
      "cell_type": "markdown",
      "source": [
        "Using Gini Index to find best depth for hep"
      ],
      "metadata": {
        "id": "9l2t-rjkY1aI"
      }
    },
    {
      "cell_type": "code",
      "source": [
        "%matplotlib inline                                  \n",
        "import matplotlib.pyplot as plt\n",
        "\n",
        "x_hep_train_tr, y_hep_train_tr = x_hep_train[:27], y_hep_train[:27]\n",
        "x_hep_train_va, y_hep_train_va = x_hep_train[27:], y_hep_train[27:]\n",
        "\n",
        "model_choices=[]\n",
        "valid_acc = []\n",
        "\n",
        "for depth in range(1, 11):\n",
        "  hep_va_model = DT(depth, cost_function=gini_index_cost)\n",
        "  \n",
        "  y_hep_train_va_prob = hep_va_model.fit(x_hep_train_tr, y_hep_train_tr).predict(x_hep_train_va)\n",
        "\n",
        "  y_hep_train_va_pred = np.argmax(y_hep_train_va_prob, 1)\n",
        "  acc = np.sum(y_hep_train_va_pred == y_hep_train_va)/y_hep_train_va.shape[0]\n",
        "  model_choices.append(depth)\n",
        "  valid_acc.append(acc)\n",
        "\n",
        "best_hep_depth = model_choices[valid_acc.index(max(valid_acc))]\n",
        "hep_va_model = DT(max_depth = best_hep_depth)\n",
        "y_hep_test_prob = hep_va_model.fit(x_hep_train, y_hep_train).predict(x_hep_test)\n",
        "y_hep_test_pred = np.argmax(y_hep_test_prob, 1)\n",
        "test_acc = np.sum(y_hep_test_pred == y_hep_test)/y_hep_test.shape[0]\n",
        "print(f'best depth = {best_hep_depth}, test accuracy = {test_acc}')\n",
        "\n",
        "plt.plot(model_choices, valid_acc, marker='o', color='blue', label='validation')\n",
        "plt.plot(best_hep_depth, test_acc, marker='*', color='red', label='testing')\n",
        "plt.xlabel(\"Max Depth\")\n",
        "plt.ylabel(\"Accuracy\")\n",
        "plt.legend(loc='best')"
      ],
      "metadata": {
        "colab": {
          "base_uri": "https://localhost:8080/",
          "height": 315
        },
        "id": "ONmPo92DhwaF",
        "outputId": "b67d818b-87be-4b75-c51f-7912d6adcd79"
      },
      "execution_count": null,
      "outputs": [
        {
          "output_type": "stream",
          "name": "stdout",
          "text": [
            "best depth = 3, test accuracy = 0.8518518518518519\n"
          ]
        },
        {
          "output_type": "execute_result",
          "data": {
            "text/plain": [
              "<matplotlib.legend.Legend at 0x7f84308cc810>"
            ]
          },
          "metadata": {},
          "execution_count": 43
        },
        {
          "output_type": "display_data",
          "data": {
            "text/plain": [
              "<Figure size 432x288 with 1 Axes>"
            ],
            "image/png": "[encoded data removed]"
          },
          "metadata": {
            "needs_background": "light"
          }
        }
      ]
    },
    {
      "cell_type": "markdown",
      "source": [
        "Use Misclassification Cost to find best depth on hep set\n"
      ],
      "metadata": {
        "id": "oemskwMEyeEi"
      }
    },
    {
      "cell_type": "code",
      "source": [
        "x_hep_train_tr, y_hep_train_tr = x_hep_train[:27], y_hep_train[:27]\n",
        "x_hep_train_va, y_hep_train_va = x_hep_train[27:], y_hep_train[27:]\n",
        "\n",
        "model_choices=[]\n",
        "valid_acc = []\n",
        "\n",
        "for depth in range(1, 11):\n",
        "  hep_va_model = DT(depth, cost_function=misclassification_cost)\n",
        "  \n",
        "  y_hep_train_va_prob = hep_va_model.fit(x_hep_train_tr, y_hep_train_tr).predict(x_hep_train_va)\n",
        "\n",
        "  y_hep_train_va_pred = np.argmax(y_hep_train_va_prob, 1)\n",
        "  acc = np.sum(y_hep_train_va_pred == y_hep_train_va)/y_hep_train_va.shape[0]\n",
        "  model_choices.append(depth)\n",
        "  valid_acc.append(acc)\n",
        "\n",
        "best_hep_depth = model_choices[valid_acc.index(max(valid_acc))]\n",
        "hep_va_model = DT(max_depth = best_hep_depth)\n",
        "y_hep_test_prob = hep_va_model.fit(x_hep_train, y_hep_train).predict(x_hep_test)\n",
        "y_hep_test_pred = np.argmax(y_hep_test_prob, 1)\n",
        "test_acc = np.sum(y_hep_test_pred == y_hep_test)/y_hep_test.shape[0]\n",
        "print(f'best depth = {best_hep_depth}, test accuracy = {test_acc}')\n",
        "\n",
        "plt.plot(model_choices, valid_acc, marker='o', color='blue', label='validation')\n",
        "plt.plot(best_hep_depth, test_acc, marker='*', color='red', label='testing')\n",
        "plt.xlabel(\"Max Depth\")\n",
        "plt.ylabel(\"Accuracy\")\n",
        "plt.legend(loc='best')"
      ],
      "metadata": {
        "colab": {
          "base_uri": "https://localhost:8080/",
          "height": 315
        },
        "id": "l_HvcbCryjmo",
        "outputId": "bd2cbfc0-2028-408c-8410-2fed2c6cd7f0"
      },
      "execution_count": null,
      "outputs": [
        {
          "output_type": "stream",
          "name": "stdout",
          "text": [
            "best depth = 1, test accuracy = 0.8148148148148148\n"
          ]
        },
        {
          "output_type": "execute_result",
          "data": {
            "text/plain": [
              "<matplotlib.legend.Legend at 0x7f8430867f90>"
            ]
          },
          "metadata": {},
          "execution_count": 44
        },
        {
          "output_type": "display_data",
          "data": {
            "text/plain": [
              "<Figure size 432x288 with 1 Axes>"
            ],
            "image/png": "[encoded data removed]"
          },
          "metadata": {
            "needs_background": "light"
          }
        }
      ]
    },
    {
      "cell_type": "markdown",
      "source": [
        "Use Entropy cost to find best depth on hep set"
      ],
      "metadata": {
        "id": "NnRBcvnoynwh"
      }
    },
    {
      "cell_type": "code",
      "source": [
        "x_hep_train_tr, y_hep_train_tr = x_hep_train[:27], y_hep_train[:27]\n",
        "x_hep_train_va, y_hep_train_va = x_hep_train[27:], y_hep_train[27:]\n",
        "\n",
        "model_choices=[]\n",
        "valid_acc = []\n",
        "\n",
        "for depth in range(1, 11):\n",
        "  hep_va_model = DT(depth, cost_function=entropy_cost)\n",
        "  \n",
        "  y_hep_train_va_prob = hep_va_model.fit(x_hep_train_tr, y_hep_train_tr).predict(x_hep_train_va)\n",
        "\n",
        "  y_hep_train_va_pred = np.argmax(y_hep_train_va_prob, 1)\n",
        "  acc = np.sum(y_hep_train_va_pred == y_hep_train_va)/y_hep_train_va.shape[0]\n",
        "  model_choices.append(depth)\n",
        "  valid_acc.append(acc)\n",
        "\n",
        "best_hep_depth = model_choices[valid_acc.index(max(valid_acc))]\n",
        "hep_va_model = DT(max_depth = best_hep_depth)\n",
        "y_hep_test_prob = hep_va_model.fit(x_hep_train, y_hep_train).predict(x_hep_test)\n",
        "y_hep_test_pred = np.argmax(y_hep_test_prob, 1)\n",
        "test_acc = np.sum(y_hep_test_pred == y_hep_test)/y_hep_test.shape[0]\n",
        "print(f'best depth = {best_hep_depth}, test accuracy = {test_acc}')\n",
        "\n",
        "plt.plot(model_choices, valid_acc, marker='o', color='blue', label='validation')\n",
        "plt.plot(best_hep_depth, test_acc, marker='*', color='red', label='testing')\n",
        "plt.xlabel(\"Max Depth\")\n",
        "plt.ylabel(\"Accuracy\")\n",
        "plt.legend(loc='best')"
      ],
      "metadata": {
        "colab": {
          "base_uri": "https://localhost:8080/",
          "height": 315
        },
        "id": "iQ1XnKpJz2Ya",
        "outputId": "c42e15ae-9087-4463-a9fc-de5675d51fba"
      },
      "execution_count": null,
      "outputs": [
        {
          "output_type": "stream",
          "name": "stdout",
          "text": [
            "best depth = 3, test accuracy = 0.8518518518518519\n"
          ]
        },
        {
          "output_type": "execute_result",
          "data": {
            "text/plain": [
              "<matplotlib.legend.Legend at 0x7f84307f7f10>"
            ]
          },
          "metadata": {},
          "execution_count": 45
        },
        {
          "output_type": "display_data",
          "data": {
            "text/plain": [
              "<Figure size 432x288 with 1 Axes>"
            ],
            "image/png": "[encoded data removed]"
          },
          "metadata": {
            "needs_background": "light"
          }
        }
      ]
    },
    {
      "cell_type": "markdown",
      "source": [
        "Use Gini Index to find best depth for Messidor set"
      ],
      "metadata": {
        "id": "OsWO3lYknK7W"
      }
    },
    {
      "cell_type": "code",
      "source": [
        "x_mes_train_tr, y_mes_train_tr = x_mes_train[:27], y_mes_train[:27]\n",
        "x_mes_train_va, y_mes_train_va = x_mes_train[27:], y_mes_train[27:]\n",
        "\n",
        "model_choices=[]\n",
        "valid_acc = []\n",
        "\n",
        "for depth in range(1, 11):\n",
        "  mes_va_model = DT(depth, cost_function=gini_index_cost)\n",
        "  \n",
        "  y_mes_train_va_prob = mes_va_model.fit(x_mes_train_tr, y_mes_train_tr).predict(x_mes_train_va)\n",
        "\n",
        "  y_mes_train_va_pred = np.argmax(y_mes_train_va_prob, 1)\n",
        "  acc = np.sum(y_mes_train_va_pred == y_mes_train_va)/y_mes_train_va.shape[0]\n",
        "  model_choices.append(depth)\n",
        "  valid_acc.append(acc)\n",
        "\n",
        "best_mes_depth = model_choices[valid_acc.index(max(valid_acc))]\n",
        "mes_va_model = DT(max_depth = best_mes_depth)\n",
        "y_mes_test_prob = mes_va_model.fit(x_mes_train, y_mes_train).predict(x_mes_test)\n",
        "y_mes_test_pred = np.argmax(y_mes_test_prob, 1)\n",
        "test_acc = np.sum(y_mes_test_pred == y_mes_test)/y_mes_test.shape[0]\n",
        "print(f'best depth = {best_mes_depth}, test accuracy = {test_acc}')\n",
        "\n",
        "plt.plot(model_choices, valid_acc, marker='o', color='blue', label='validation')\n",
        "plt.plot(best_mes_depth, test_acc, marker='*', color='red', label='testing')\n",
        "plt.xlabel(\"Max Depth\")\n",
        "plt.ylabel(\"Accuracy\")\n",
        "plt.legend(loc='best')"
      ],
      "metadata": {
        "colab": {
          "base_uri": "https://localhost:8080/",
          "height": 315
        },
        "id": "9Xm6Lyc100pA",
        "outputId": "b14bc81e-98e5-499f-89af-5f193928448f"
      },
      "execution_count": null,
      "outputs": [
        {
          "output_type": "stream",
          "name": "stdout",
          "text": [
            "best depth = 4, test accuracy = 0.6484375\n"
          ]
        },
        {
          "output_type": "execute_result",
          "data": {
            "text/plain": [
              "<matplotlib.legend.Legend at 0x7f8430772590>"
            ]
          },
          "metadata": {},
          "execution_count": 46
        },
        {
          "output_type": "display_data",
          "data": {
            "text/plain": [
              "<Figure size 432x288 with 1 Axes>"
            ],
            "image/png": "[encoded data removed]"
          },
          "metadata": {
            "needs_background": "light"
          }
        }
      ]
    },
    {
      "cell_type": "markdown",
      "source": [
        "Messidor depth test with misclassification cost"
      ],
      "metadata": {
        "id": "hcieexsU2aZJ"
      }
    },
    {
      "cell_type": "code",
      "source": [
        "x_mes_train_tr, y_mes_train_tr = x_mes_train[:27], y_mes_train[:27]\n",
        "x_mes_train_va, y_mes_train_va = x_mes_train[27:], y_mes_train[27:]\n",
        "\n",
        "model_choices=[]\n",
        "valid_acc = []\n",
        "\n",
        "for depth in range(1, 11):\n",
        "  mes_va_model = DT(depth, cost_function=misclassification_cost)\n",
        "  \n",
        "  y_mes_train_va_prob = mes_va_model.fit(x_mes_train_tr, y_mes_train_tr).predict(x_mes_train_va)\n",
        "\n",
        "  y_mes_train_va_pred = np.argmax(y_mes_train_va_prob, 1)\n",
        "  acc = np.sum(y_mes_train_va_pred == y_mes_train_va)/y_mes_train_va.shape[0]\n",
        "  model_choices.append(depth)\n",
        "  valid_acc.append(acc)\n",
        "\n",
        "best_mes_depth = model_choices[valid_acc.index(max(valid_acc))]\n",
        "mes_va_model = DT(max_depth = best_mes_depth)\n",
        "y_mes_test_prob = mes_va_model.fit(x_mes_train, y_mes_train).predict(x_mes_test)\n",
        "y_mes_test_pred = np.argmax(y_mes_test_prob, 1)\n",
        "test_acc = np.sum(y_mes_test_pred == y_mes_test)/y_mes_test.shape[0]\n",
        "print(f'best depth = {best_mes_depth}, test accuracy = {test_acc}')\n",
        "\n",
        "plt.plot(model_choices, valid_acc, marker='o', color='blue', label='validation')\n",
        "plt.plot(best_mes_depth, test_acc, marker='*', color='red', label='testing')\n",
        "plt.xlabel(\"Max Depth\")\n",
        "plt.ylabel(\"Accuracy\")\n",
        "plt.legend(loc='best')"
      ],
      "metadata": {
        "colab": {
          "base_uri": "https://localhost:8080/",
          "height": 315
        },
        "id": "832IoVxH2dJp",
        "outputId": "75215c12-90d1-46ce-f524-f02ef21a4529"
      },
      "execution_count": null,
      "outputs": [
        {
          "output_type": "stream",
          "name": "stdout",
          "text": [
            "best depth = 1, test accuracy = 0.5989583333333334\n"
          ]
        },
        {
          "output_type": "execute_result",
          "data": {
            "text/plain": [
              "<matplotlib.legend.Legend at 0x7f8430a85250>"
            ]
          },
          "metadata": {},
          "execution_count": 47
        },
        {
          "output_type": "display_data",
          "data": {
            "text/plain": [
              "<Figure size 432x288 with 1 Axes>"
            ],
            "image/png": "[encoded data removed]"
          },
          "metadata": {
            "needs_background": "light"
          }
        }
      ]
    },
    {
      "cell_type": "markdown",
      "source": [
        "Max depth using entropy"
      ],
      "metadata": {
        "id": "UkpWy-ku2nnq"
      }
    },
    {
      "cell_type": "code",
      "source": [
        "x_mes_train_tr, y_mes_train_tr = x_mes_train[:27], y_mes_train[:27]\n",
        "x_mes_train_va, y_mes_train_va = x_mes_train[27:], y_mes_train[27:]\n",
        "\n",
        "model_choices=[]\n",
        "valid_acc = []\n",
        "\n",
        "for depth in range(1, 11):\n",
        "  mes_va_model = DT(depth, cost_function=entropy_cost)\n",
        "  \n",
        "  y_mes_train_va_prob = mes_va_model.fit(x_mes_train_tr, y_mes_train_tr).predict(x_mes_train_va)\n",
        "\n",
        "  y_mes_train_va_pred = np.argmax(y_mes_train_va_prob, 1)\n",
        "  acc = np.sum(y_mes_train_va_pred == y_mes_train_va)/y_mes_train_va.shape[0]\n",
        "  model_choices.append(depth)\n",
        "  valid_acc.append(acc)\n",
        "\n",
        "best_mes_depth = model_choices[valid_acc.index(max(valid_acc))]\n",
        "mes_va_model = DT(max_depth = best_mes_depth)\n",
        "y_mes_test_prob = mes_va_model.fit(x_mes_train, y_mes_train).predict(x_mes_test)\n",
        "y_mes_test_pred = np.argmax(y_mes_test_prob, 1)\n",
        "test_acc = np.sum(y_mes_test_pred == y_mes_test)/y_mes_test.shape[0]\n",
        "print(f'best depth = {best_mes_depth}, test accuracy = {test_acc}')\n",
        "\n",
        "plt.plot(model_choices, valid_acc, marker='o', color='blue', label='validation')\n",
        "plt.plot(best_mes_depth, test_acc, marker='*', color='red', label='testing')\n",
        "plt.xlabel(\"Max Depth\")\n",
        "plt.ylabel(\"Accuracy\")\n",
        "plt.legend(loc='best')"
      ],
      "metadata": {
        "colab": {
          "base_uri": "https://localhost:8080/",
          "height": 315
        },
        "id": "KM79zcGL2pYf",
        "outputId": "37573182-35e7-48ee-f83e-90f6d78392b9"
      },
      "execution_count": null,
      "outputs": [
        {
          "output_type": "stream",
          "name": "stdout",
          "text": [
            "best depth = 4, test accuracy = 0.6484375\n"
          ]
        },
        {
          "output_type": "execute_result",
          "data": {
            "text/plain": [
              "<matplotlib.legend.Legend at 0x7f84307c3a10>"
            ]
          },
          "metadata": {},
          "execution_count": 48
        },
        {
          "output_type": "display_data",
          "data": {
            "text/plain": [
              "<Figure size 432x288 with 1 Axes>"
            ],
            "image/png": "[encoded data removed]"
          },
          "metadata": {
            "needs_background": "light"
          }
        }
      ]
    },
    {
      "cell_type": "markdown",
      "source": [
        "### Test Accuracy of KNN "
      ],
      "metadata": {
        "id": "u767dthZtjDF"
      }
    },
    {
      "cell_type": "markdown",
      "source": [
        "Comparing test accuracy of Hepatitis vs. Messidor Set\n"
      ],
      "metadata": {
        "id": "geTrudh3YtpF"
      }
    },
    {
      "cell_type": "code",
      "source": [
        "\n",
        "model = KNN(1)\n",
        "y_hep_prob, hep_knns =  model.fit(x_hep_train, y_hep_train).predict(x_hep_test)\n",
        "y_hep_pred = np.argmax(y_hep_prob, axis=-1)\n",
        "hep_acc = np.sum(y_hep_pred == y_hep_test)/y_hep_test.shape[0]\n",
        "\n",
        "y_mes_prob, mes_knns =  model.fit(x_mes_train, y_mes_train).predict(x_mes_test)\n",
        "y_mes_pred = np.argmax(y_mes_prob, axis=-1)\n",
        "mes_acc = np.sum(y_mes_pred == y_mes_test)/y_mes_test.shape[0]\n",
        "\n",
        "print(f\"The test accuracy of KNN on Hepatitis Dataset: {hep_acc}\")\n",
        "print(f\"The test accuracy of KNN on Messidor Dataset: {mes_acc}\")\n"
      ],
      "metadata": {
        "id": "wXBFrcAHY7Ix",
        "colab": {
          "base_uri": "https://localhost:8080/"
        },
        "outputId": "d3de510f-69b8-446d-8241-f153ab7a085a"
      },
      "execution_count": null,
      "outputs": [
        {
          "output_type": "stream",
          "name": "stdout",
          "text": [
            "The test accuracy of KNN on Hepatitis Dataset: 0.8148148148148148\n",
            "The test accuracy of KNN on Messidor Dataset: 0.6328125\n"
          ]
        }
      ]
    },
    {
      "cell_type": "markdown",
      "source": [
        "Manhattan Distance Comparison"
      ],
      "metadata": {
        "id": "EF6onY1qdTpn"
      }
    },
    {
      "cell_type": "code",
      "source": [
        "manhattan_model = KNN(1, manhattan)\n",
        "y_hep_prob, hep_knns =  manhattan_model.fit(x_hep_train, y_hep_train).predict(x_hep_test)\n",
        "y_hep_pred = np.argmax(y_hep_prob, axis=-1)\n",
        "hep_acc = np.sum(y_hep_pred == y_hep_test)/y_hep_test.shape[0]\n",
        "\n",
        "y_mes_prob, mes_knns =  manhattan_model.fit(x_mes_train, y_mes_train).predict(x_mes_test)\n",
        "y_mes_pred = np.argmax(y_mes_prob, axis=-1)\n",
        "mes_acc = np.sum(y_mes_pred == y_mes_test)/y_mes_test.shape[0]\n",
        "\n",
        "print(f\"The test accuracy of KNN on Hepatitis Dataset: {hep_acc}\")\n",
        "print(f\"The test accuracy of KNN on Messidor Dataset: {mes_acc}\")"
      ],
      "metadata": {
        "id": "k00D2wK9dZyn",
        "colab": {
          "base_uri": "https://localhost:8080/"
        },
        "outputId": "2bfcaa63-02d6-4ec8-9be1-79dd125e5790"
      },
      "execution_count": null,
      "outputs": [
        {
          "output_type": "stream",
          "name": "stdout",
          "text": [
            "The test accuracy of KNN on Hepatitis Dataset: 0.7777777777777778\n",
            "The test accuracy of KNN on Messidor Dataset: 0.6223958333333334\n"
          ]
        }
      ]
    },
    {
      "cell_type": "markdown",
      "source": [
        "Choosing best K for hepatitis "
      ],
      "metadata": {
        "id": "1rasgTtqYDwt"
      }
    },
    {
      "cell_type": "code",
      "source": [
        "%matplotlib inline                                  \n",
        "import matplotlib.pyplot as plt\n",
        "\n",
        "x_hep_train_tr, y_hep_train_tr = x_hep_train[:27], y_hep_train[:27]\n",
        "x_hep_train_va, y_hep_train_va = x_hep_train[27:], y_hep_train[27:]\n",
        "\n",
        "model_choices=[]\n",
        "valid_acc = []\n",
        "\n",
        "\n",
        "for k in range(1, 11):\n",
        "  hep_va_model = KNN(k)\n",
        "  y_hep_train_va_prob,_ = hep_va_model.fit(x_hep_train_tr, y_hep_train_tr).predict(x_hep_train_va)\n",
        "  y_hep_train_va_pred = np.argmax(y_hep_train_va_prob, axis=-1)\n",
        "  acc = np.sum(y_hep_train_va_pred == y_hep_train_va)/y_hep_train_va.shape[0]\n",
        "  model_choices.append(k)\n",
        "  valid_acc.append(acc)\n",
        "\n",
        "best_hep_k = model_choices[valid_acc.index(max(valid_acc))]\n",
        "hep_va_model = KNN(best_hep_k)\n",
        "y_hep_test_prob,_ = hep_va_model.fit(x_hep_train, y_hep_train).predict(x_hep_test)\n",
        "y_hep_test_pred = np.argmax(y_hep_test_prob, axis=-1)\n",
        "test_acc = np.sum(y_hep_test_pred == y_hep_test)/y_hep_test.shape[0]\n",
        "print(f'best K = {best_hep_k}, test accuracy = {test_acc}')\n",
        "\n",
        "plt.plot(model_choices, valid_acc, marker='o', color='blue', label='validation')\n",
        "plt.plot(best_hep_k, test_acc, marker='*', color='red', label='testing')\n",
        "plt.xlabel(\"K\")\n",
        "plt.ylabel(\"Accuracy\")\n",
        "plt.legend(loc='best')"
      ],
      "metadata": {
        "id": "OJT5ZFhRuUWd",
        "colab": {
          "base_uri": "https://localhost:8080/",
          "height": 317
        },
        "outputId": "2197f916-aaac-4107-b139-67e2dfe5c1dd"
      },
      "execution_count": null,
      "outputs": [
        {
          "output_type": "stream",
          "name": "stdout",
          "text": [
            "best K = 7, test accuracy = 0.8888888888888888\n"
          ]
        },
        {
          "output_type": "execute_result",
          "data": {
            "text/plain": [
              "<matplotlib.legend.Legend at 0x7f843063c610>"
            ]
          },
          "metadata": {},
          "execution_count": 51
        },
        {
          "output_type": "display_data",
          "data": {
            "text/plain": [
              "<Figure size 432x288 with 1 Axes>"
            ],
            "image/png": "[encoded data removed]"
          },
          "metadata": {
            "needs_background": "light"
          }
        }
      ]
    },
    {
      "cell_type": "markdown",
      "source": [
        "Choosing best K for hepatitis "
      ],
      "metadata": {
        "id": "3Cutayi5ajU2"
      }
    },
    {
      "cell_type": "code",
      "source": [
        "x_mes_train_tr, y_mes_train_tr = x_mes_train[:27], y_mes_train[:27]\n",
        "x_mes_train_va, y_mes_train_va = x_mes_train[27:], y_mes_train[27:]\n",
        "\n",
        "model_choices=[]\n",
        "valid_acc = []\n",
        "\n",
        "\n",
        "for k in range(1, 11):\n",
        "  mes_va_model = KNN(k)\n",
        "  y_mes_train_va_prob,_ = mes_va_model.fit(x_mes_train_tr, y_mes_train_tr).predict(x_mes_train_va)\n",
        "  y_mes_train_va_pred = np.argmax(y_mes_train_va_prob, axis=-1)\n",
        "  acc = np.sum(y_mes_train_va_pred == y_mes_train_va)/y_mes_train_va.shape[0]\n",
        "  model_choices.append(k)\n",
        "  valid_acc.append(acc)\n",
        "\n",
        "best_mes_K = model_choices[valid_acc.index(max(valid_acc))]\n",
        "mes_va_model = KNN(best_mes_K)\n",
        "y_mes_test_prob,_ = mes_va_model.fit(x_mes_train, y_mes_train).predict(x_mes_test)\n",
        "y_mes_test_pred = np.argmax(y_mes_test_prob, axis=-1)\n",
        "test_acc = np.sum(y_mes_test_pred == y_mes_test)/y_mes_test.shape[0]\n",
        "print(f'best K = {best_mes_K}, test accuracy = {test_acc}')\n",
        "\n",
        "plt.plot(model_choices, valid_acc, marker='o', color='blue', label='validation')\n",
        "plt.plot(best_mes_K, test_acc, marker='*', color='red', label='testing')\n",
        "plt.xlabel(\"K\")\n",
        "plt.ylabel(\"Accuracy\")\n",
        "plt.legend(loc='best')"
      ],
      "metadata": {
        "id": "5hDG_zexaiha",
        "colab": {
          "base_uri": "https://localhost:8080/",
          "height": 315
        },
        "outputId": "b8d08730-64e0-437e-9acd-41f130a3004d"
      },
      "execution_count": null,
      "outputs": [
        {
          "output_type": "stream",
          "name": "stdout",
          "text": [
            "best K = 7, test accuracy = 0.640625\n"
          ]
        },
        {
          "output_type": "execute_result",
          "data": {
            "text/plain": [
              "<matplotlib.legend.Legend at 0x7f84305c3c10>"
            ]
          },
          "metadata": {},
          "execution_count": 52
        },
        {
          "output_type": "display_data",
          "data": {
            "text/plain": [
              "<Figure size 432x288 with 1 Axes>"
            ],
            "image/png": "[encoded data removed]"
          },
          "metadata": {
            "needs_background": "light"
          }
        }
      ]
    },
    {
      "cell_type": "markdown",
      "source": [
        "### TODO:\n",
        "####- Permutation Feature Importance\n",
        "####- Decision Boundary Plot \n",
        "####- Standardize Features/Weighted KNN etc."
      ],
      "metadata": {
        "id": "8fhXI51UqPO6"
      }
    },
    {
      "cell_type": "markdown",
      "source": [
        "Decision Boundary Plot for KNN"
      ],
      "metadata": {
        "id": "0D54JNvkAPyF"
      }
    },
    {
      "cell_type": "code",
      "source": [
        "correct = y_hep_test == y_hep_pred\n",
        "incorrect = np.logical_not(correct)\n",
        "\n",
        "plt.scatter(x_hep_train[:,16], x_hep_train[:,13], c=y_hep_train, marker='o', label='train')\n",
        "plt.scatter(x_hep_test[correct,16], x_hep_test[correct,13], c=y_hep_pred[correct], marker='.', label='correct')\n",
        "plt.scatter(x_hep_test[incorrect,16], x_hep_test[incorrect,13], c=y_hep_pred[incorrect], marker='x', label='incorrect')\n",
        "plt.legend()\n",
        "# ax = plt.gca()\n",
        "# for label in ax.get_yaxis().get_ticklabels()[::1]:\n",
        "#     label.set_visible(False)\n",
        "plt.show()"
      ],
      "metadata": {
        "id": "lAD6SaT5AQHa",
        "colab": {
          "base_uri": "https://localhost:8080/",
          "height": 268
        },
        "outputId": "7a50ea30-3331-41ef-8b98-390418a5bf18"
      },
      "execution_count": null,
      "outputs": [
        {
          "output_type": "display_data",
          "data": {
            "text/plain": [
              "<Figure size 432x288 with 1 Axes>"
            ],
            "image/png": "[encoded data removed]"
          },
          "metadata": {
            "needs_background": "light"
          }
        }
      ]
    },
    {
      "cell_type": "markdown",
      "source": [
        "STUFF TO ADD TO FINAL"
      ],
      "metadata": {
        "id": "b4kVlpImMQLG"
      }
    },
    {
      "cell_type": "markdown",
      "source": [
        "finding best min_leaf instances using entropy index"
      ],
      "metadata": {
        "id": "DOgvJRARRrDI"
      }
    },
    {
      "cell_type": "code",
      "source": [
        "class DT:\n",
        "  def __init__(self, max_depth, min_leaf_instances = 1, cost_function=misclassification_cost, min_cost_decrease = 0):\n",
        "    self.num_classes = None\n",
        "    self.max_depth = max_depth\n",
        "    self.min_cost_decrease = min_cost_decrease\n",
        "    self.min_leaf_instances = min_leaf_instances\n",
        "    self.root = None\n",
        "    self.cost_function = cost_function\n",
        "    self.num_leafs = 1\n",
        "\n",
        "\n",
        "  def fit(self, data, labels):\n",
        "    #instantiate root\n",
        "    self.data = data\n",
        "    self.labels = labels\n",
        "\n",
        "    self.num_classes = np.max(labels) + 1\n",
        "\n",
        "    self.root = Node(np.arange(data.shape[0]), None)\n",
        "    self.root.depth = 0\n",
        "    self.root.data = data\n",
        "    self.root.labels = labels\n",
        "    self.root.num_classes = self.num_classes\n",
        "\n",
        "    self._fit_tree(self.root)\n",
        "    return self\n",
        "\n",
        "    \n",
        "\n",
        "  def predict(self, data):\n",
        "    results = None\n",
        "    for i in range(data.shape[0]):\n",
        "      x = data[i]\n",
        "\n",
        "      cur_node = self.root;\n",
        "\n",
        "      while cur_node.left:\n",
        "        if x[cur_node.split_feature] <= cur_node.split_value:\n",
        "          cur_node = cur_node.left\n",
        "        else:\n",
        "          cur_node = cur_node.right\n",
        "      \n",
        "      if results is None:\n",
        "        results = cur_node.class_prob\n",
        "      else:\n",
        "        results = np.vstack((results, cur_node.class_prob))\n",
        "\n",
        "    #loop ends when a leaf is reached\n",
        "    #return prob_class of leaf\n",
        "    return results\n",
        "\n",
        "  def _fit_tree(self, node):\n",
        "    self.prev_cost = np.inf\n",
        "    #base case\n",
        "    #print(f\"type of node: {type(node.depth)}\")\n",
        "    #print(f\"type of dept: {type(self.max_depth)}\")\n",
        "    if node.depth >= self.max_depth or node.data_indices.size <= self.min_leaf_instances:\n",
        "        #print(f\"node depth is {node.depth}\")\n",
        "        #print(f\"node indices is {node.data_indices.size}\")\n",
        "        #print(f\"node_depth = self.max_depth {node.depth >= self.max_depth}\")\n",
        "        #print(f\"node.data_indices.size <= self.min_leaf_instances {node.data_indices.size <= self.min_leaf_instances}\")\n",
        "        return\n",
        "\n",
        "    #greedy split\n",
        "    cost, feat, thresh = greedy_node(node, self.cost_function)\n",
        "\n",
        "    #check if split can be done, if cost = inf then no split possible so return\n",
        "    if(np.isinf(cost)):\n",
        "      return\n",
        "\n",
        "    #assign feature and threshold\n",
        "    node.split_feature = feat\n",
        "    node.split_value = thresh\n",
        "\n",
        "    test_logicals = node.data[node.data_indices, feat] <= thresh\n",
        "\n",
        "    left_child = Node(node.data_indices[test_logicals], node)\n",
        "    right_child = Node(node.data_indices[np.logical_not(test_logicals)], node)\n",
        "\n",
        "    self._fit_tree(left_child)\n",
        "    self._fit_tree(right_child)\n",
        "\n",
        "    node.left = left_child\n",
        "    node.right = right_child"
      ],
      "metadata": {
        "id": "6vtnE65dGyXy"
      },
      "execution_count": null,
      "outputs": []
    },
    {
      "cell_type": "code",
      "source": [
        "x_mes_train_tr, y_mes_train_tr = x_mes_train[:27], y_mes_train[:27]\n",
        "x_mes_train_va, y_mes_train_va = x_mes_train[27:], y_mes_train[27:]\n",
        "\n",
        "model_choices=[]\n",
        "valid_acc = []\n",
        "\n",
        "for min_instances in range(1, 11):\n",
        "  mes_va_model = DT(max_depth=3,min_leaf_instances=min_instances, cost_function=entropy_cost)\n",
        "  \n",
        "  y_mes_train_va_prob = mes_va_model.fit(x_mes_train_tr, y_mes_train_tr).predict(x_mes_train_va)\n",
        "\n",
        "  y_mes_train_va_pred = np.argmax(y_mes_train_va_prob, 1)\n",
        "  acc = np.sum(y_mes_train_va_pred == y_mes_train_va)/y_mes_train_va.shape[0]\n",
        "  model_choices.append(min_instances)\n",
        "  valid_acc.append(acc)\n",
        "\n",
        "best_mes_instances = model_choices[valid_acc.index(max(valid_acc))]\n",
        "mes_va_model = DT(max_depth = 3, min_leaf_instances = best_mes_instances, cost_function=entropy_cost)\n",
        "y_mes_test_prob = mes_va_model.fit(x_mes_train, y_mes_train).predict(x_mes_test)\n",
        "y_mes_test_pred = np.argmax(y_mes_test_prob, 1)\n",
        "test_acc = np.sum(y_mes_test_pred == y_mes_test)/y_mes_test.shape[0]\n",
        "print(f'best minimum instances = {best_mes_instances}, test accuracy = {test_acc}')\n",
        "\n",
        "plt.plot(model_choices, valid_acc, marker='o', color='blue', label='validation')\n",
        "plt.plot(best_mes_instances\n",
        "\n",
        "\n",
        ", test_acc, marker='*', color='red', label='testing')\n",
        "plt.xlabel(\"Minimum leaf instances\")\n",
        "plt.ylabel(\"Accuracy\")\n",
        "plt.legend(loc='best')\n",
        "\n"
      ],
      "metadata": {
        "colab": {
          "base_uri": "https://localhost:8080/",
          "height": 315
        },
        "id": "dFSRQ14XMP2F",
        "outputId": "ac9cafd2-5931-4e10-e0b7-5fbdcfcd71fb"
      },
      "execution_count": null,
      "outputs": [
        {
          "output_type": "stream",
          "name": "stdout",
          "text": [
            "best minimum instances = 1, test accuracy = 0.6328125\n"
          ]
        },
        {
          "output_type": "execute_result",
          "data": {
            "text/plain": [
              "<matplotlib.legend.Legend at 0x7f8430a670d0>"
            ]
          },
          "metadata": {},
          "execution_count": 55
        },
        {
          "output_type": "display_data",
          "data": {
            "text/plain": [
              "<Figure size 432x288 with 1 Axes>"
            ],
            "image/png": "[encoded data removed]"
          },
          "metadata": {
            "needs_background": "light"
          }
        }
      ]
    },
    {
      "cell_type": "code",
      "source": [
        "x_hep_train_tr, y_hep_train_tr = x_hep_train[:27], y_hep_train[:27]\n",
        "x_hep_train_va, y_hep_train_va = x_hep_train[27:], y_hep_train[27:]\n",
        "\n",
        "model_choices=[]\n",
        "valid_acc = []\n",
        "\n",
        "for min_instances in range(1, 11):\n",
        "  hep_va_model = DT(max_depth = 3, min_leaf_instances = min_instances, cost_function=gini_index_cost)\n",
        "  \n",
        "  y_hep_train_va_prob = hep_va_model.fit(x_hep_train_tr, y_hep_train_tr).predict(x_hep_train_va)\n",
        "\n",
        "  y_hep_train_va_pred = np.argmax(y_hep_train_va_prob, 1)\n",
        "  acc = np.sum(y_hep_train_va_pred == y_hep_train_va)/y_hep_train_va.shape[0]\n",
        "  model_choices.append(min_instances)\n",
        "  valid_acc.append(acc)\n",
        "\n",
        "best_min_instances = model_choices[valid_acc.index(max(valid_acc))]\n",
        "hep_va_model = DT(max_depth = 3, min_leaf_instances = best_min_instances, cost_function = gini_index_cost)\n",
        "y_hep_test_prob = hep_va_model.fit(x_hep_train, y_hep_train).predict(x_hep_test)\n",
        "y_hep_test_pred = np.argmax(y_hep_test_prob, 1)\n",
        "test_acc = np.sum(y_hep_test_pred == y_hep_test)/y_hep_test.shape[0]\n",
        "print(f'best leaf instances = {best_min_instances}, test accuracy = {test_acc}')\n",
        "\n",
        "plt.plot(model_choices, valid_acc, marker='o', color='blue', label='validation')\n",
        "plt.plot(best_min_instances, test_acc, marker='*', color='red', label='testing')\n",
        "plt.xlabel(\"Minimum leaf instances\")\n",
        "plt.ylabel(\"Accuracy\")\n",
        "plt.legend(loc='best')"
      ],
      "metadata": {
        "colab": {
          "base_uri": "https://localhost:8080/",
          "height": 315
        },
        "id": "llGE8wC5bgf5",
        "outputId": "eef51289-3d13-42e3-9333-0bb7a866df7d"
      },
      "execution_count": null,
      "outputs": [
        {
          "output_type": "stream",
          "name": "stdout",
          "text": [
            "best leaf instances = 1, test accuracy = 0.8518518518518519\n"
          ]
        },
        {
          "output_type": "execute_result",
          "data": {
            "text/plain": [
              "<matplotlib.legend.Legend at 0x7f843044bc10>"
            ]
          },
          "metadata": {},
          "execution_count": 56
        },
        {
          "output_type": "display_data",
          "data": {
            "text/plain": [
              "<Figure size 432x288 with 1 Axes>"
            ],
            "image/png": "[encoded data removed]"
          },
          "metadata": {
            "needs_background": "light"
          }
        }
      ]
    },
    {
      "cell_type": "markdown",
      "source": [
        "decision boundary using two most important features"
      ],
      "metadata": {
        "id": "wVri6kit4Onh"
      }
    },
    {
      "cell_type": "code",
      "source": [
        "model_hep = DT(3, cost_function=gini_index_cost)\n",
        "hep_probs_test = model_hep.fit(x_hep_train, y_hep_train).predict(x_hep_test)\n",
        "hep_y_pred = np.argmax(hep_probs_test, 1)\n",
        "dt_hep_acc = np.sum(hep_y_pred == y_hep_test)/y_hep_test.shape[0]\n",
        "\n",
        "# model_mes = DT(3, cost_function=gini_index_cost)\n",
        "# mes_probs_test = model_mes.fit(x_mes_train, y_mes_train).predict(x_mes_test)\n",
        "# mes_y_pred = np.argmax(mes_probs_test, 1)\n",
        "# dt_mes_acc = np.sum(mes_y_pred == y_mes_test)/y_mes_test.shape[0]\n",
        "\n",
        "features = [i for i in range(x_hep_train.shape[1])]\n",
        "feature_accuracy = []\n",
        "for col in range(x_hep_train.shape[1]):\n",
        "  x_hep_train_perm = np.ndarray.copy(x_hep_train)\n",
        "  x_hep_train_perm[:,col] = np.random.RandomState(seed=15).permutation(x_hep_train_perm[:,col])\n",
        "  model = DT(max_depth=3, cost_function = gini_index_cost)\n",
        "  y_hep_prob =  model.fit(x_hep_train_perm, y_hep_train).predict(x_hep_test)\n",
        "  y_hep_pred = np.argmax(y_hep_prob, axis=-1)\n",
        "  hep_acc = np.sum(y_hep_pred == y_hep_test)/y_hep_test.shape[0]\n",
        "  feature_accuracy.append(dt_hep_acc - hep_acc) \n",
        "\n",
        "best_hep_features = np.argsort(feature_accuracy)[::-1][:2]\n",
        "print(f'best features= {best_hep_features}, corresponding accuracies={feature_accuracy[best_hep_features[0]]} and {feature_accuracy[best_hep_features[1]]}')\n",
        "plt.plot(features, feature_accuracy, marker='o', color='blue', label='training')\n",
        "plt.plot(best_hep_features[0], feature_accuracy[best_hep_features[0]], marker='*', color='red', label='best feature')\n",
        "plt.plot(best_hep_features[1], feature_accuracy[best_hep_features[1]], marker='*', color='yellow', label='2nd best feature')\n",
        "plt.xlabel(\"Features\")\n",
        "plt.ylabel(\"Accuracy\")\n",
        "plt.legend(loc='best')\n",
        "plt.savefig('hep_DT_features_1.png',dpi=300,bbox_inches='tight')"
      ],
      "metadata": {
        "colab": {
          "base_uri": "https://localhost:8080/",
          "height": 297
        },
        "id": "0OGQZBIT4Ng6",
        "outputId": "fc8974b1-1fe5-4b60-82a5-7fa509824a11"
      },
      "execution_count": null,
      "outputs": [
        {
          "output_type": "stream",
          "name": "stdout",
          "text": [
            "best features= [14 18], corresponding accuracies=0.03703703703703709 and 0.0\n"
          ]
        },
        {
          "output_type": "display_data",
          "data": {
            "text/plain": [
              "<Figure size 432x288 with 1 Axes>"
            ],
            "image/png": "[encoded data removed]"
          },
          "metadata": {
            "needs_background": "light"
          }
        }
      ]
    },
    {
      "cell_type": "markdown",
      "source": [
        "^ obviously gives bad results, so i'll use the features from the random forest result."
      ],
      "metadata": {
        "id": "rpp3RU-W8Q7i"
      }
    },
    {
      "cell_type": "code",
      "source": [
        "x0v = np.linspace(np.min(x_hep_np[:,16]), np.max(x_hep_np[:,17]), 200)\n",
        "x1v = np.linspace(np.min(x_hep_np[:,16]), np.max(x_hep_np[:,17]), 200)\n",
        "\n",
        "model = DT(max_depth = 3, cost_function = gini_index_cost)  \n",
        "x0, x1 = np.meshgrid(x0v, x1v)\n",
        "x_all = np.vstack((x0.ravel(),x1.ravel())).T\n",
        "y_hep_prob_all= model.fit(x_hep_train[:,[16,17]], y_hep_train).predict(np.squeeze(x_all))\n",
        "y_hep_train_prob = np.zeros((y_hep_train.shape[0], np.max(y_hep_np)+1))\n",
        "y_hep_train_prob[np.arange(y_hep_train.shape[0]), y_hep_train] = 1\n",
        "\n",
        "print(y_hep_prob_all)\n",
        "\n",
        "plt.scatter(x_hep_train[:,16], x_hep_train[:,17], c=y_hep_train_prob, marker='o', alpha=1)\n",
        "plt.scatter(x_all[:,0], x_all[:,1], c=y_hep_prob_all, marker='.', alpha=.01)\n",
        "plt.ylabel('PROTIME')\n",
        "plt.xlabel('ALBUMIN')\n",
        "plt.savefig('DT_decision_boundary.png',dpi=300,bbox_inches='tight')\n",
        "plt.show()"
      ],
      "metadata": {
        "colab": {
          "base_uri": "https://localhost:8080/",
          "height": 404
        },
        "id": "r4VkKvhs7TLa",
        "outputId": "c4350314-21a5-45c8-f26b-9a62e755ed13"
      },
      "execution_count": null,
      "outputs": [
        {
          "output_type": "stream",
          "name": "stdout",
          "text": [
            "[[0.         0.         1.        ]\n",
            " [0.         0.         1.        ]\n",
            " [0.         0.         1.        ]\n",
            " ...\n",
            " [0.         0.14285714 0.85714286]\n",
            " [0.         0.14285714 0.85714286]\n",
            " [0.         0.14285714 0.85714286]]\n"
          ]
        },
        {
          "output_type": "display_data",
          "data": {
            "text/plain": [
              "<Figure size 432x288 with 1 Axes>"
            ],
            "image/png": "[encoded data removed]"
          },
          "metadata": {
            "needs_background": "light"
          }
        }
      ]
    },
    {
      "cell_type": "markdown",
      "source": [
        "using results from the trandom forest test for messidor\n"
      ],
      "metadata": {
        "id": "5nYoyt-w8y_z"
      }
    },
    {
      "cell_type": "code",
      "source": [
        "x0v = np.linspace(np.min(x_mes_np[:,2]), np.max(x_mes_np[:,8]), 200)\n",
        "x1v = np.linspace(np.min(x_mes_np[:,2]), np.max(x_mes_np[:,8]), 200)\n",
        "\n",
        "model = DT(max_depth = 3, cost_function=gini_index_cost)\n",
        "x0, x1 = np.meshgrid(x0v, x1v)\n",
        "x_all = np.vstack((x0.ravel(),x1.ravel())).T\n",
        "y_mes_prob_all = model.fit(x_mes_train[:,[2,8]], y_mes_train).predict(np.squeeze(x_all))\n",
        "y_mes_train_prob = np.zeros((y_mes_train.shape[0], np.max(y_mes_np)+2))\n",
        "y_mes_train_prob[np.arange(y_mes_train.shape[0]), y_mes_train] = 1\n",
        "\n",
        "plt.scatter(x_mes_train[:,2], x_mes_train[:,8], c=y_mes_train_prob, marker='o', alpha=1)\n",
        "plt.scatter(x_all[:,0], x_all[:,1], c=np.c_[y_mes_prob_all, np.zeros(np.shape(y_mes_prob_all)[0])], marker='.', alpha=.01)\n",
        "plt.ylabel('EXUDATES-8')\n",
        "plt.xlabel('MA-2')\n",
        "plt.savefig('mes_decision_boundary.png',dpi=300,bbox_inches='tight')\n",
        "plt.show()"
      ],
      "metadata": {
        "colab": {
          "base_uri": "https://localhost:8080/",
          "height": 279
        },
        "id": "dYN-AP9Y7BWB",
        "outputId": "c1239428-daea-4c8b-a850-b35ad3728d19"
      },
      "execution_count": null,
      "outputs": [
        {
          "output_type": "display_data",
          "data": {
            "text/plain": [
              "<Figure size 432x288 with 1 Axes>"
            ],
            "image/png": "[encoded data removed]"
          },
          "metadata": {
            "needs_background": "light"
          }
        }
      ]
    }
  ]
}